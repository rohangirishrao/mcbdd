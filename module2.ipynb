{
 "cells": [
  {
   "cell_type": "markdown",
   "metadata": {
    "pycharm": {
     "name": "#%% md\n"
    }
   },
   "source": [
    "#### 1: Get all approved drugs and sort by year and name."
   ]
  },
  {
   "cell_type": "code",
   "execution_count": 2,
   "outputs": [],
   "source": [
    "from chembl_webresource_client.new_client import new_client\n",
    "import pandas as pd"
   ],
   "metadata": {
    "collapsed": false,
    "pycharm": {
     "name": "#%%\n"
    }
   }
  },
  {
   "cell_type": "code",
   "execution_count": 3,
   "metadata": {
    "pycharm": {
     "name": "#%%\n"
    }
   },
   "outputs": [
    {
     "name": "stdout",
     "output_type": "stream",
     "text": [
      "Number of approved drugs:  4121\n"
     ]
    }
   ],
   "source": [
    "# Next 2 lines copied from live Jupyter Notebook from Github, with slight changes\n",
    "molecule = new_client.molecule\n",
    "approved_drugs = molecule.filter(first_approval_isnull=False).filter(max_phase=4) # Filter for approved drugs and save in variable\n",
    "\n",
    "ad_df = pd.DataFrame(approved_drugs) # Convert QuerySet into a workable Pandas dataframe\n",
    "# ad_df.head()\n",
    "print('Number of approved drugs: ', len(ad_df))"
   ]
  },
  {
   "cell_type": "code",
   "execution_count": 4,
   "metadata": {
    "scrolled": true
   },
   "outputs": [
    {
     "data": {
      "text/plain": "     atc_classifications  availability_type biotherapeutic  black_box_warning  \\\n84                    []                  1           None                  0   \n2144                  []                  1           None                  0   \n1840           [H02AA03]                  0           None                  0   \n526                   []                  1           None                  0   \n1967                  []                  1           None                  0   \n\n      chebi_par_id  chirality  \\\n84          3228.0          0   \n2144           NaN          0   \n1840       34671.0          1   \n526        42820.0          2   \n1967       32735.0          2   \n\n                                       cross_references  dosed_ingredient  \\\n84    [{'xref_id': 'Butabarbital', 'xref_name': None...             False   \n2144                                                 []              True   \n1840  [{'xref_id': '144204427', 'xref_name': 'SID: 1...              True   \n526   [{'xref_id': 'Guanidine', 'xref_name': None, '...             False   \n1967                                                 []              True   \n\n      first_approval  first_in_class  ... topical       usan_stem  \\\n84            1939.0               0  ...   False          -barb-   \n2144          1939.0               0  ...   False          -barb-   \n1840          1939.0               0  ...   False  -cort-; -ster-   \n526           1939.0               0  ...   False           guan-   \n1967          1939.0               0  ...   False           guan-   \n\n                                   usan_stem_definition    usan_substem  \\\n84                          barbituric acid derivatives          -barb-   \n2144                        barbituric acid derivatives          -barb-   \n1840  cortisone derivatives; steroids (androgens, an...  -cort-; -ster-   \n526           antihypertensives (guanidine derivatives)           guan-   \n1967          antihypertensives (guanidine derivatives)           guan-   \n\n     usan_year withdrawn_class withdrawn_country withdrawn_flag  \\\n84         NaN            None              None          False   \n2144       NaN            None              None          False   \n1840       NaN            None              None          False   \n526        NaN            None              None          False   \n1967       NaN            None              None          False   \n\n     withdrawn_reason withdrawn_year  \n84               None            NaN  \n2144             None            NaN  \n1840             None            NaN  \n526              None            NaN  \n1967             None            NaN  \n\n[5 rows x 38 columns]",
      "text/html": "<div>\n<style scoped>\n    .dataframe tbody tr th:only-of-type {\n        vertical-align: middle;\n    }\n\n    .dataframe tbody tr th {\n        vertical-align: top;\n    }\n\n    .dataframe thead th {\n        text-align: right;\n    }\n</style>\n<table border=\"1\" class=\"dataframe\">\n  <thead>\n    <tr style=\"text-align: right;\">\n      <th></th>\n      <th>atc_classifications</th>\n      <th>availability_type</th>\n      <th>biotherapeutic</th>\n      <th>black_box_warning</th>\n      <th>chebi_par_id</th>\n      <th>chirality</th>\n      <th>cross_references</th>\n      <th>dosed_ingredient</th>\n      <th>first_approval</th>\n      <th>first_in_class</th>\n      <th>...</th>\n      <th>topical</th>\n      <th>usan_stem</th>\n      <th>usan_stem_definition</th>\n      <th>usan_substem</th>\n      <th>usan_year</th>\n      <th>withdrawn_class</th>\n      <th>withdrawn_country</th>\n      <th>withdrawn_flag</th>\n      <th>withdrawn_reason</th>\n      <th>withdrawn_year</th>\n    </tr>\n  </thead>\n  <tbody>\n    <tr>\n      <th>84</th>\n      <td>[]</td>\n      <td>1</td>\n      <td>None</td>\n      <td>0</td>\n      <td>3228.0</td>\n      <td>0</td>\n      <td>[{'xref_id': 'Butabarbital', 'xref_name': None...</td>\n      <td>False</td>\n      <td>1939.0</td>\n      <td>0</td>\n      <td>...</td>\n      <td>False</td>\n      <td>-barb-</td>\n      <td>barbituric acid derivatives</td>\n      <td>-barb-</td>\n      <td>NaN</td>\n      <td>None</td>\n      <td>None</td>\n      <td>False</td>\n      <td>None</td>\n      <td>NaN</td>\n    </tr>\n    <tr>\n      <th>2144</th>\n      <td>[]</td>\n      <td>1</td>\n      <td>None</td>\n      <td>0</td>\n      <td>NaN</td>\n      <td>0</td>\n      <td>[]</td>\n      <td>True</td>\n      <td>1939.0</td>\n      <td>0</td>\n      <td>...</td>\n      <td>False</td>\n      <td>-barb-</td>\n      <td>barbituric acid derivatives</td>\n      <td>-barb-</td>\n      <td>NaN</td>\n      <td>None</td>\n      <td>None</td>\n      <td>False</td>\n      <td>None</td>\n      <td>NaN</td>\n    </tr>\n    <tr>\n      <th>1840</th>\n      <td>[H02AA03]</td>\n      <td>0</td>\n      <td>None</td>\n      <td>0</td>\n      <td>34671.0</td>\n      <td>1</td>\n      <td>[{'xref_id': '144204427', 'xref_name': 'SID: 1...</td>\n      <td>True</td>\n      <td>1939.0</td>\n      <td>0</td>\n      <td>...</td>\n      <td>False</td>\n      <td>-cort-; -ster-</td>\n      <td>cortisone derivatives; steroids (androgens, an...</td>\n      <td>-cort-; -ster-</td>\n      <td>NaN</td>\n      <td>None</td>\n      <td>None</td>\n      <td>False</td>\n      <td>None</td>\n      <td>NaN</td>\n    </tr>\n    <tr>\n      <th>526</th>\n      <td>[]</td>\n      <td>1</td>\n      <td>None</td>\n      <td>0</td>\n      <td>42820.0</td>\n      <td>2</td>\n      <td>[{'xref_id': 'Guanidine', 'xref_name': None, '...</td>\n      <td>False</td>\n      <td>1939.0</td>\n      <td>0</td>\n      <td>...</td>\n      <td>False</td>\n      <td>guan-</td>\n      <td>antihypertensives (guanidine derivatives)</td>\n      <td>guan-</td>\n      <td>NaN</td>\n      <td>None</td>\n      <td>None</td>\n      <td>False</td>\n      <td>None</td>\n      <td>NaN</td>\n    </tr>\n    <tr>\n      <th>1967</th>\n      <td>[]</td>\n      <td>1</td>\n      <td>None</td>\n      <td>0</td>\n      <td>32735.0</td>\n      <td>2</td>\n      <td>[]</td>\n      <td>True</td>\n      <td>1939.0</td>\n      <td>0</td>\n      <td>...</td>\n      <td>False</td>\n      <td>guan-</td>\n      <td>antihypertensives (guanidine derivatives)</td>\n      <td>guan-</td>\n      <td>NaN</td>\n      <td>None</td>\n      <td>None</td>\n      <td>False</td>\n      <td>None</td>\n      <td>NaN</td>\n    </tr>\n  </tbody>\n</table>\n<p>5 rows × 38 columns</p>\n</div>"
     },
     "execution_count": 4,
     "metadata": {},
     "output_type": "execute_result"
    }
   ],
   "source": [
    "# Sort values by first approval year and the name\n",
    "ad_df = ad_df.sort_values(by=['first_approval', 'pref_name'])\n",
    "ad_df.head()"
   ]
  },
  {
   "cell_type": "markdown",
   "source": [
    "I was not sure if we should download the molecules filter (as in the Live Notebook example from Github, or the drugs filter that's shown further below. I have done both here, but am slightly confused about which is the correct solution."
   ],
   "metadata": {
    "collapsed": false,
    "pycharm": {
     "name": "#%% md\n"
    }
   }
  },
  {
   "cell_type": "code",
   "execution_count": 5,
   "outputs": [
    {
     "name": "stdout",
     "output_type": "stream",
     "text": [
      "Number of approved drugs through newclient.drug:  2938\n"
     ]
    }
   ],
   "source": [
    "drug = new_client.drug\n",
    "res = drug.filter(first_approval_isnull=False).filter(max_phase=4)\n",
    "\n",
    "drug_df = pd.DataFrame(res) # Convert QuerySet into a workable Pandas dataframe\n",
    "\n",
    "approved_drugs_df = drug_df[(drug_df['development_phase'] == 4)]\n",
    "print('Number of approved drugs through newclient.drug: ', len(approved_drugs_df))"
   ],
   "metadata": {
    "collapsed": false,
    "pycharm": {
     "name": "#%%\n"
    }
   }
  },
  {
   "cell_type": "markdown",
   "source": [
    "I'm not sure about the discrepancy here between the number of drugs from the molecule filter and from the drug filter. Seeing as the example in the Notebook says \"Get approved drugs\" from the molecule filter, I assume that's the correct one, but I'm not sure. The targets are in the drug filter, so that's an argument for why the drug filter is the correct one. I work with the drug filter one for further steps."
   ],
   "metadata": {
    "collapsed": false,
    "pycharm": {
     "name": "#%% md\n"
    }
   }
  },
  {
   "cell_type": "markdown",
   "metadata": {
    "pycharm": {
     "name": "#%% md\n"
    }
   },
   "source": [
    "#### 2: For each approved drug *since 2012* that you identified in step (1), retrieve a list of UniProt accession numbers, namely protein targets associated with the drug. On average, how many protein targets are associated with each compound?"
   ]
  },
  {
   "cell_type": "code",
   "execution_count": 6,
   "metadata": {
    "pycharm": {
     "name": "#%%\n"
    }
   },
   "outputs": [
    {
     "name": "stdout",
     "output_type": "stream",
     "text": [
      "Number of approved drugs since 2012:  446\n"
     ]
    },
    {
     "data": {
      "text/plain": "                                            applicants  \\\n397  [Caplin Steriles Ltd, American Regent Inc, Amn...   \n427                                [Chemo Research Sl]   \n527                                         [Uswm Llc]   \n562                                 [Novo Nordisk Inc]   \n601                      [Knight Therapeutics Usa Inc]   \n\n                                    atc_classification  availability_type  \\\n397  [{'code': 'N07AA51', 'description': 'NERVOUS S...                1.0   \n427  [{'code': 'P01CA02', 'description': 'ANTIPARAS...                1.0   \n527  [{'code': 'N07BC04', 'description': 'NERVOUS S...                1.0   \n562  [{'code': 'V04CD06', 'description': 'VARIOUS: ...                1.0   \n601  [{'code': 'P01CX04', 'description': 'ANTIPARAS...                1.0   \n\n    biotherapeutic  black_box black_box_warning  chirality  development_phase  \\\n397           None      False                 0          2                  4   \n427           None      False                 0          2                  4   \n527           None      False                 0          0                  4   \n562           None      False                 0          1                  4   \n601           None       True                 1          0                  4   \n\n     drug_type  first_approval  first_in_class helm_notation  \\\n397          1          2013.0           False          None   \n427          1          2017.0           False          None   \n527          1          2018.0            True          None   \n562          1          2017.0            True          None   \n601          1          2014.0            True          None   \n\n     indication_class molecule_chembl_id  \\\n397       Cholinergic       CHEMBL278020   \n427              None          CHEMBL110   \n527  Antihypertensive        CHEMBL17860   \n562              None       CHEMBL278623   \n601              None          CHEMBL125   \n\n                                   molecule_properties  \\\n397  {'alogp': '1.94', 'aromatic_rings': 1, 'cx_log...   \n427  {'alogp': '1.11', 'aromatic_rings': 2, 'cx_log...   \n527  {'alogp': '2.76', 'aromatic_rings': 1, 'cx_log...   \n562  {'alogp': '1.84', 'aromatic_rings': 4, 'cx_log...   \n601  {'alogp': '5.68', 'aromatic_rings': 0, 'cx_log...   \n\n                                   molecule_structures  \\\n397  {'canonical_smiles': 'CN(C)C(=O)Oc1cccc([N+](C...   \n427  {'canonical_smiles': 'O=C(Cn1ccnc1[N+](=O)[O-]...   \n527  {'canonical_smiles': 'CC(Oc1c(Cl)cccc1Cl)C1=NC...   \n562  {'canonical_smiles': 'CC(C)(N)C(=O)N[C@H](Cc1c...   \n601  {'canonical_smiles': 'CCCCCCCCCCCCCCCCOP(=O)([...   \n\n                                     molecule_synonyms ob_patent   oral  \\\n397  [{'molecule_synonym': 'Miostin', 'syn_type': '...      None  False   \n427  [{'molecule_synonym': 'Benznidazole', 'syn_typ...      None   True   \n527  [{'molecule_synonym': 'Lofexidine', 'syn_type'...      None   True   \n562  [{'molecule_synonym': 'AEZS-130', 'syn_type': ...   6861409   True   \n601  [{'molecule_synonym': 'D-18506', 'syn_type': '...      None   True   \n\n     parenteral  prodrug                                     research_codes  \\\n397        True    False                            [NSC-93753, NSC-757233]   \n427       False    False    [RO-7-1051, RO 07-1051, NSC-299972, RO-07-1051]   \n527       False    False                [MDL-14042, NSC-759654, MDL 14,042]   \n562       False    False  [EP01572, EP 1572, EP-1572, EP-01572, ARD-07, ...   \n601       False    False            [HDPC, NSC-758968, D-18506, NSC-605583]   \n\n     rule_of_five      sc_patent  \\\n397          True           None   \n427          True           None   \n527          True           None   \n562         False  US-6861409-B2   \n601         False           None   \n\n                                              synonyms  topical  usan_stem  \\\n397  [Neostigmine (BAN, MI), Neostigmine methyl sul...    False  -stigmine   \n427              [Benznidazole (FDA, INN, MI, USAN), ]    False  -nidazole   \n527  [Lofexidine (BAN, INN), Lofexidine hydrochlori...    False       None   \n562  [Macimorelin acetate (FDA, USAN), Macimorelin ...    False     -relin   \n601                [Miltefosine (BAN, FDA, INN, MI), ]    False      -fos-   \n\n                                  usan_stem_definition  \\\n397     cholinesterase inhibitors (physostigmine type)   \n427      antiprotozoal substances (metronidazole type)   \n527                                               None   \n562  prehormones or hormone-release stimulating pep...   \n601                              phosphoro-derivatives   \n\n             usan_stem_substem  usan_year withdrawn_class withdrawn_country  \\\n397       -stigmine(-stigmine)        NaN            None              None   \n427       -nidazole(-nidazole)     2016.0            None              None   \n527                       None     1986.0            None              None   \n562  -relin(-relin (-morelin))     2013.0            None              None   \n601               -fos-(-fos-)        NaN            None              None   \n\n    withdrawn_flag withdrawn_reason  withdrawn_year  atc_code_description  \n397              0             None             NaN                   NaN  \n427              0             None             NaN                   NaN  \n527              0             None             NaN                   NaN  \n562              0             None             NaN                   NaN  \n601              0             None             NaN                   NaN  ",
      "text/html": "<div>\n<style scoped>\n    .dataframe tbody tr th:only-of-type {\n        vertical-align: middle;\n    }\n\n    .dataframe tbody tr th {\n        vertical-align: top;\n    }\n\n    .dataframe thead th {\n        text-align: right;\n    }\n</style>\n<table border=\"1\" class=\"dataframe\">\n  <thead>\n    <tr style=\"text-align: right;\">\n      <th></th>\n      <th>applicants</th>\n      <th>atc_classification</th>\n      <th>availability_type</th>\n      <th>biotherapeutic</th>\n      <th>black_box</th>\n      <th>black_box_warning</th>\n      <th>chirality</th>\n      <th>development_phase</th>\n      <th>drug_type</th>\n      <th>first_approval</th>\n      <th>first_in_class</th>\n      <th>helm_notation</th>\n      <th>indication_class</th>\n      <th>molecule_chembl_id</th>\n      <th>molecule_properties</th>\n      <th>molecule_structures</th>\n      <th>molecule_synonyms</th>\n      <th>ob_patent</th>\n      <th>oral</th>\n      <th>parenteral</th>\n      <th>prodrug</th>\n      <th>research_codes</th>\n      <th>rule_of_five</th>\n      <th>sc_patent</th>\n      <th>synonyms</th>\n      <th>topical</th>\n      <th>usan_stem</th>\n      <th>usan_stem_definition</th>\n      <th>usan_stem_substem</th>\n      <th>usan_year</th>\n      <th>withdrawn_class</th>\n      <th>withdrawn_country</th>\n      <th>withdrawn_flag</th>\n      <th>withdrawn_reason</th>\n      <th>withdrawn_year</th>\n      <th>atc_code_description</th>\n    </tr>\n  </thead>\n  <tbody>\n    <tr>\n      <th>397</th>\n      <td>[Caplin Steriles Ltd, American Regent Inc, Amn...</td>\n      <td>[{'code': 'N07AA51', 'description': 'NERVOUS S...</td>\n      <td>1.0</td>\n      <td>None</td>\n      <td>False</td>\n      <td>0</td>\n      <td>2</td>\n      <td>4</td>\n      <td>1</td>\n      <td>2013.0</td>\n      <td>False</td>\n      <td>None</td>\n      <td>Cholinergic</td>\n      <td>CHEMBL278020</td>\n      <td>{'alogp': '1.94', 'aromatic_rings': 1, 'cx_log...</td>\n      <td>{'canonical_smiles': 'CN(C)C(=O)Oc1cccc([N+](C...</td>\n      <td>[{'molecule_synonym': 'Miostin', 'syn_type': '...</td>\n      <td>None</td>\n      <td>False</td>\n      <td>True</td>\n      <td>False</td>\n      <td>[NSC-93753, NSC-757233]</td>\n      <td>True</td>\n      <td>None</td>\n      <td>[Neostigmine (BAN, MI), Neostigmine methyl sul...</td>\n      <td>False</td>\n      <td>-stigmine</td>\n      <td>cholinesterase inhibitors (physostigmine type)</td>\n      <td>-stigmine(-stigmine)</td>\n      <td>NaN</td>\n      <td>None</td>\n      <td>None</td>\n      <td>0</td>\n      <td>None</td>\n      <td>NaN</td>\n      <td>NaN</td>\n    </tr>\n    <tr>\n      <th>427</th>\n      <td>[Chemo Research Sl]</td>\n      <td>[{'code': 'P01CA02', 'description': 'ANTIPARAS...</td>\n      <td>1.0</td>\n      <td>None</td>\n      <td>False</td>\n      <td>0</td>\n      <td>2</td>\n      <td>4</td>\n      <td>1</td>\n      <td>2017.0</td>\n      <td>False</td>\n      <td>None</td>\n      <td>None</td>\n      <td>CHEMBL110</td>\n      <td>{'alogp': '1.11', 'aromatic_rings': 2, 'cx_log...</td>\n      <td>{'canonical_smiles': 'O=C(Cn1ccnc1[N+](=O)[O-]...</td>\n      <td>[{'molecule_synonym': 'Benznidazole', 'syn_typ...</td>\n      <td>None</td>\n      <td>True</td>\n      <td>False</td>\n      <td>False</td>\n      <td>[RO-7-1051, RO 07-1051, NSC-299972, RO-07-1051]</td>\n      <td>True</td>\n      <td>None</td>\n      <td>[Benznidazole (FDA, INN, MI, USAN), ]</td>\n      <td>False</td>\n      <td>-nidazole</td>\n      <td>antiprotozoal substances (metronidazole type)</td>\n      <td>-nidazole(-nidazole)</td>\n      <td>2016.0</td>\n      <td>None</td>\n      <td>None</td>\n      <td>0</td>\n      <td>None</td>\n      <td>NaN</td>\n      <td>NaN</td>\n    </tr>\n    <tr>\n      <th>527</th>\n      <td>[Uswm Llc]</td>\n      <td>[{'code': 'N07BC04', 'description': 'NERVOUS S...</td>\n      <td>1.0</td>\n      <td>None</td>\n      <td>False</td>\n      <td>0</td>\n      <td>0</td>\n      <td>4</td>\n      <td>1</td>\n      <td>2018.0</td>\n      <td>True</td>\n      <td>None</td>\n      <td>Antihypertensive</td>\n      <td>CHEMBL17860</td>\n      <td>{'alogp': '2.76', 'aromatic_rings': 1, 'cx_log...</td>\n      <td>{'canonical_smiles': 'CC(Oc1c(Cl)cccc1Cl)C1=NC...</td>\n      <td>[{'molecule_synonym': 'Lofexidine', 'syn_type'...</td>\n      <td>None</td>\n      <td>True</td>\n      <td>False</td>\n      <td>False</td>\n      <td>[MDL-14042, NSC-759654, MDL 14,042]</td>\n      <td>True</td>\n      <td>None</td>\n      <td>[Lofexidine (BAN, INN), Lofexidine hydrochlori...</td>\n      <td>False</td>\n      <td>None</td>\n      <td>None</td>\n      <td>None</td>\n      <td>1986.0</td>\n      <td>None</td>\n      <td>None</td>\n      <td>0</td>\n      <td>None</td>\n      <td>NaN</td>\n      <td>NaN</td>\n    </tr>\n    <tr>\n      <th>562</th>\n      <td>[Novo Nordisk Inc]</td>\n      <td>[{'code': 'V04CD06', 'description': 'VARIOUS: ...</td>\n      <td>1.0</td>\n      <td>None</td>\n      <td>False</td>\n      <td>0</td>\n      <td>1</td>\n      <td>4</td>\n      <td>1</td>\n      <td>2017.0</td>\n      <td>True</td>\n      <td>None</td>\n      <td>None</td>\n      <td>CHEMBL278623</td>\n      <td>{'alogp': '1.84', 'aromatic_rings': 4, 'cx_log...</td>\n      <td>{'canonical_smiles': 'CC(C)(N)C(=O)N[C@H](Cc1c...</td>\n      <td>[{'molecule_synonym': 'AEZS-130', 'syn_type': ...</td>\n      <td>6861409</td>\n      <td>True</td>\n      <td>False</td>\n      <td>False</td>\n      <td>[EP01572, EP 1572, EP-1572, EP-01572, ARD-07, ...</td>\n      <td>False</td>\n      <td>US-6861409-B2</td>\n      <td>[Macimorelin acetate (FDA, USAN), Macimorelin ...</td>\n      <td>False</td>\n      <td>-relin</td>\n      <td>prehormones or hormone-release stimulating pep...</td>\n      <td>-relin(-relin (-morelin))</td>\n      <td>2013.0</td>\n      <td>None</td>\n      <td>None</td>\n      <td>0</td>\n      <td>None</td>\n      <td>NaN</td>\n      <td>NaN</td>\n    </tr>\n    <tr>\n      <th>601</th>\n      <td>[Knight Therapeutics Usa Inc]</td>\n      <td>[{'code': 'P01CX04', 'description': 'ANTIPARAS...</td>\n      <td>1.0</td>\n      <td>None</td>\n      <td>True</td>\n      <td>1</td>\n      <td>0</td>\n      <td>4</td>\n      <td>1</td>\n      <td>2014.0</td>\n      <td>True</td>\n      <td>None</td>\n      <td>None</td>\n      <td>CHEMBL125</td>\n      <td>{'alogp': '5.68', 'aromatic_rings': 0, 'cx_log...</td>\n      <td>{'canonical_smiles': 'CCCCCCCCCCCCCCCCOP(=O)([...</td>\n      <td>[{'molecule_synonym': 'D-18506', 'syn_type': '...</td>\n      <td>None</td>\n      <td>True</td>\n      <td>False</td>\n      <td>False</td>\n      <td>[HDPC, NSC-758968, D-18506, NSC-605583]</td>\n      <td>False</td>\n      <td>None</td>\n      <td>[Miltefosine (BAN, FDA, INN, MI), ]</td>\n      <td>False</td>\n      <td>-fos-</td>\n      <td>phosphoro-derivatives</td>\n      <td>-fos-(-fos-)</td>\n      <td>NaN</td>\n      <td>None</td>\n      <td>None</td>\n      <td>0</td>\n      <td>None</td>\n      <td>NaN</td>\n      <td>NaN</td>\n    </tr>\n  </tbody>\n</table>\n</div>"
     },
     "execution_count": 6,
     "metadata": {},
     "output_type": "execute_result"
    }
   ],
   "source": [
    "pd.set_option('display.max_columns', None) # See all columns\n",
    "\n",
    "ad_2012 = approved_drugs_df[approved_drugs_df['first_approval'] >= 2012.0] # Filter dataset to include only drugs that were approved after 2012\n",
    "\n",
    "print('Number of approved drugs since 2012: ', len(ad_2012))\n",
    "ad_2012.head(5)"
   ]
  },
  {
   "cell_type": "markdown",
   "source": [
    "In the following cell, I get the activities and link them the drugs from above to their intended targets. Unfortunately, this cell takes a ton of time to load and sometimes it did not load at all. I tried different filters multiple times, but for whatever reason it takes a long time. I have written more code that I think should be correct, but it was tough to test, seeing as the data I need was never retrieved correctly and in time. Sometimes the kernel even timed out."
   ],
   "metadata": {
    "collapsed": false,
    "pycharm": {
     "name": "#%% md\n"
    }
   }
  },
  {
   "cell_type": "code",
   "execution_count": null,
   "outputs": [],
   "source": [
    "import numpy as np\n",
    "\n",
    "activities = new_client.activity.filter(molecule_chembl_id__in = list(approved_drugs_df.molecule_chembl_id)).only(['molecule_chembl_id', 'target_chembl_id'])\n",
    "targets_id = [a['target_chembl_id'] for a in activities]\n",
    "activities_df = pd.DataFrame(activities)\n",
    "activities_df\n",
    "\n",
    "#counts = np.array(activities_df.molecule_chembl_id.value_counts())\n",
    "#med = np.median(counts)\n",
    "#print('The median: ', med)\n",
    "# print('Number of targets: ', len(targets_id))"
   ],
   "metadata": {
    "collapsed": false,
    "pycharm": {
     "name": "#%%\n",
     "is_executing": true
    }
   }
  },
  {
   "cell_type": "code",
   "execution_count": null,
   "outputs": [],
   "source": [
    "# Download targets dataset\n",
    "target = new_client.target\n",
    "result = target.filter(target_synonym_isnull = False).filter(targets_chembl_id__in = targets_id) # I'm not quite sure how to filter this according to the targets list I have from above cell, but I believe this should work.\n",
    "\n",
    "# Put into a Dataframe\n",
    "targets_df = pd.DataFrame(result)\n",
    "# display(targets_df)\n",
    "\n",
    "# Make new column 'accession' that stores all accession numbers given in the target_components column\n",
    "targets_df['accession'] = targets_df[\"target_components\"].str[0].str[\"accession\"]\n",
    "targets_df"
   ],
   "metadata": {
    "collapsed": false,
    "pycharm": {
     "name": "#%%\n",
     "is_executing": true
    }
   }
  },
  {
   "cell_type": "code",
   "execution_count": null,
   "outputs": [],
   "source": [
    "accessions = list(targets_df['accession'])\n",
    "print('Number of accession codes: ', len(accessions))\n",
    "unique_accessions = list(set(accessions))\n",
    "print('Number of unique accessions: ', len(unique_accessions))"
   ],
   "metadata": {
    "collapsed": false,
    "pycharm": {
     "name": "#%%\n",
     "is_executing": true
    }
   }
  },
  {
   "cell_type": "markdown",
   "source": [
    "#### 3. Step 3: for each protein with a UniProt accession number that you identified in step (2), retrieve UniProt keywords associated with it. Which keyword(s) is associated with most drugs approved since 2012?"
   ],
   "metadata": {
    "collapsed": false,
    "pycharm": {
     "name": "#%% md\n"
    }
   }
  },
  {
   "cell_type": "code",
   "execution_count": null,
   "outputs": [],
   "source": [
    "import requests, sys"
   ],
   "metadata": {
    "collapsed": false,
    "pycharm": {
     "name": "#%%\n",
     "is_executing": true
    }
   }
  },
  {
   "cell_type": "code",
   "execution_count": null,
   "outputs": [],
   "source": [
    "reqURLs = [\"https://www.ebi.ac.uk/proteins/api/proteins/{}\".format(a) for a in accessions if a is not None]\n",
    "\n",
    "keyWords = []\n",
    "\n",
    "for url in reqURLs:\n",
    "    r = requests.get(url, headers={'Accept':'application/json'})\n",
    "    if not r.ok:\n",
    "        continue\n",
    "    response = r.json()\n",
    "    a = response['accession']\n",
    "    try:\n",
    "        k = [w['value'] for w in response['keywords']]\n",
    "    except KeyError:\n",
    "        print('{} no KW attached'.format(a))\n",
    "        k = ['']\n",
    "    keyWords.append([a,k])"
   ],
   "metadata": {
    "collapsed": false,
    "pycharm": {
     "name": "#%%\n",
     "is_executing": true
    }
   }
  },
  {
   "cell_type": "code",
   "execution_count": null,
   "outputs": [],
   "source": [
    "kw_df = pd.DataFrame(keyWords, columns=['accession code', 'keywords'])\n",
    "display(kw_df.head(10))\n",
    "print('Number of keywords: ', len(kw_df))\n",
    "\n",
    "print('Counts of keywords: ', kw_df.keywords.value_counts())"
   ],
   "metadata": {
    "collapsed": false,
    "pycharm": {
     "name": "#%%\n",
     "is_executing": true
    }
   }
  },
  {
   "cell_type": "markdown",
   "source": [
    "Unfortunately, the code just does not run due to some API issues (I'm assuming). I do not exactly know where the problem is, but the loading of the data is taking so long, I cannot do much about it."
   ],
   "metadata": {
    "collapsed": false,
    "pycharm": {
     "name": "#%% md\n"
    }
   }
  },
  {
   "cell_type": "markdown",
   "source": [],
   "metadata": {
    "collapsed": false,
    "pycharm": {
     "name": "#%% md\n"
    }
   }
  }
 ],
 "metadata": {
  "kernelspec": {
   "display_name": "Python 3",
   "language": "python",
   "name": "python3"
  },
  "language_info": {
   "codemirror_mode": {
    "name": "ipython",
    "version": 3
   },
   "file_extension": ".py",
   "mimetype": "text/x-python",
   "name": "python",
   "nbconvert_exporter": "python",
   "pygments_lexer": "ipython3",
   "version": "3.8.8"
  }
 },
 "nbformat": 4,
 "nbformat_minor": 1
}