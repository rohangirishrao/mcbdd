{
 "cells": [
  {
   "cell_type": "markdown",
   "metadata": {
    "pycharm": {
     "name": "#%% md\n"
    }
   },
   "source": [
    "#### 1: Get all approved drugs and sort by year and name."
   ]
  },
  {
   "cell_type": "code",
   "execution_count": 2,
   "outputs": [],
   "source": [
    "from chembl_webresource_client.new_client import new_client\n",
    "import pandas as pd"
   ],
   "metadata": {
    "collapsed": false,
    "pycharm": {
     "name": "#%%\n"
    }
   }
  },
  {
   "cell_type": "code",
   "execution_count": 3,
   "metadata": {
    "pycharm": {
     "name": "#%%\n"
    }
   },
   "outputs": [
    {
     "name": "stdout",
     "output_type": "stream",
     "text": [
      "Number of approved drugs:  4121\n"
     ]
    }
   ],
   "source": [
    "# Next 2 lines copied from live Jupyter Notebook from Github, with slight changes\n",
    "molecule = new_client.molecule\n",
    "approved_drugs = molecule.filter(first_approval_isnull=False).filter(max_phase=4) # Filter for approved drugs and save in variable\n",
    "\n",
    "ad_df = pd.DataFrame(approved_drugs) # Convert QuerySet into a workable Pandas dataframe\n",
    "# ad_df.head()\n",
    "print('Number of approved drugs: ', len(ad_df))"
   ]
  },
  {
   "cell_type": "code",
   "execution_count": 4,
   "metadata": {
    "scrolled": true
   },
   "outputs": [
    {
     "data": {
      "text/plain": "     atc_classifications  availability_type biotherapeutic  black_box_warning  \\\n84                    []                  1           None                  0   \n2144                  []                  1           None                  0   \n1840           [H02AA03]                  0           None                  0   \n526                   []                  1           None                  0   \n1967                  []                  1           None                  0   \n\n      chebi_par_id  chirality  \\\n84          3228.0          0   \n2144           NaN          0   \n1840       34671.0          1   \n526        42820.0          2   \n1967       32735.0          2   \n\n                                       cross_references  dosed_ingredient  \\\n84    [{'xref_id': 'Butabarbital', 'xref_name': None...             False   \n2144                                                 []              True   \n1840  [{'xref_id': '144204427', 'xref_name': 'SID: 1...              True   \n526   [{'xref_id': 'Guanidine', 'xref_name': None, '...             False   \n1967                                                 []              True   \n\n      first_approval  first_in_class  ... topical       usan_stem  \\\n84            1939.0               0  ...   False          -barb-   \n2144          1939.0               0  ...   False          -barb-   \n1840          1939.0               0  ...   False  -cort-; -ster-   \n526           1939.0               0  ...   False           guan-   \n1967          1939.0               0  ...   False           guan-   \n\n                                   usan_stem_definition    usan_substem  \\\n84                          barbituric acid derivatives          -barb-   \n2144                        barbituric acid derivatives          -barb-   \n1840  cortisone derivatives; steroids (androgens, an...  -cort-; -ster-   \n526           antihypertensives (guanidine derivatives)           guan-   \n1967          antihypertensives (guanidine derivatives)           guan-   \n\n     usan_year withdrawn_class withdrawn_country withdrawn_flag  \\\n84         NaN            None              None          False   \n2144       NaN            None              None          False   \n1840       NaN            None              None          False   \n526        NaN            None              None          False   \n1967       NaN            None              None          False   \n\n     withdrawn_reason withdrawn_year  \n84               None            NaN  \n2144             None            NaN  \n1840             None            NaN  \n526              None            NaN  \n1967             None            NaN  \n\n[5 rows x 38 columns]",
      "text/html": "<div>\n<style scoped>\n    .dataframe tbody tr th:only-of-type {\n        vertical-align: middle;\n    }\n\n    .dataframe tbody tr th {\n        vertical-align: top;\n    }\n\n    .dataframe thead th {\n        text-align: right;\n    }\n</style>\n<table border=\"1\" class=\"dataframe\">\n  <thead>\n    <tr style=\"text-align: right;\">\n      <th></th>\n      <th>atc_classifications</th>\n      <th>availability_type</th>\n      <th>biotherapeutic</th>\n      <th>black_box_warning</th>\n      <th>chebi_par_id</th>\n      <th>chirality</th>\n      <th>cross_references</th>\n      <th>dosed_ingredient</th>\n      <th>first_approval</th>\n      <th>first_in_class</th>\n      <th>...</th>\n      <th>topical</th>\n      <th>usan_stem</th>\n      <th>usan_stem_definition</th>\n      <th>usan_substem</th>\n      <th>usan_year</th>\n      <th>withdrawn_class</th>\n      <th>withdrawn_country</th>\n      <th>withdrawn_flag</th>\n      <th>withdrawn_reason</th>\n      <th>withdrawn_year</th>\n    </tr>\n  </thead>\n  <tbody>\n    <tr>\n      <th>84</th>\n      <td>[]</td>\n      <td>1</td>\n      <td>None</td>\n      <td>0</td>\n      <td>3228.0</td>\n      <td>0</td>\n      <td>[{'xref_id': 'Butabarbital', 'xref_name': None...</td>\n      <td>False</td>\n      <td>1939.0</td>\n      <td>0</td>\n      <td>...</td>\n      <td>False</td>\n      <td>-barb-</td>\n      <td>barbituric acid derivatives</td>\n      <td>-barb-</td>\n      <td>NaN</td>\n      <td>None</td>\n      <td>None</td>\n      <td>False</td>\n      <td>None</td>\n      <td>NaN</td>\n    </tr>\n    <tr>\n      <th>2144</th>\n      <td>[]</td>\n      <td>1</td>\n      <td>None</td>\n      <td>0</td>\n      <td>NaN</td>\n      <td>0</td>\n      <td>[]</td>\n      <td>True</td>\n      <td>1939.0</td>\n      <td>0</td>\n      <td>...</td>\n      <td>False</td>\n      <td>-barb-</td>\n      <td>barbituric acid derivatives</td>\n      <td>-barb-</td>\n      <td>NaN</td>\n      <td>None</td>\n      <td>None</td>\n      <td>False</td>\n      <td>None</td>\n      <td>NaN</td>\n    </tr>\n    <tr>\n      <th>1840</th>\n      <td>[H02AA03]</td>\n      <td>0</td>\n      <td>None</td>\n      <td>0</td>\n      <td>34671.0</td>\n      <td>1</td>\n      <td>[{'xref_id': '144204427', 'xref_name': 'SID: 1...</td>\n      <td>True</td>\n      <td>1939.0</td>\n      <td>0</td>\n      <td>...</td>\n      <td>False</td>\n      <td>-cort-; -ster-</td>\n      <td>cortisone derivatives; steroids (androgens, an...</td>\n      <td>-cort-; -ster-</td>\n      <td>NaN</td>\n      <td>None</td>\n      <td>None</td>\n      <td>False</td>\n      <td>None</td>\n      <td>NaN</td>\n    </tr>\n    <tr>\n      <th>526</th>\n      <td>[]</td>\n      <td>1</td>\n      <td>None</td>\n      <td>0</td>\n      <td>42820.0</td>\n      <td>2</td>\n      <td>[{'xref_id': 'Guanidine', 'xref_name': None, '...</td>\n      <td>False</td>\n      <td>1939.0</td>\n      <td>0</td>\n      <td>...</td>\n      <td>False</td>\n      <td>guan-</td>\n      <td>antihypertensives (guanidine derivatives)</td>\n      <td>guan-</td>\n      <td>NaN</td>\n      <td>None</td>\n      <td>None</td>\n      <td>False</td>\n      <td>None</td>\n      <td>NaN</td>\n    </tr>\n    <tr>\n      <th>1967</th>\n      <td>[]</td>\n      <td>1</td>\n      <td>None</td>\n      <td>0</td>\n      <td>32735.0</td>\n      <td>2</td>\n      <td>[]</td>\n      <td>True</td>\n      <td>1939.0</td>\n      <td>0</td>\n      <td>...</td>\n      <td>False</td>\n      <td>guan-</td>\n      <td>antihypertensives (guanidine derivatives)</td>\n      <td>guan-</td>\n      <td>NaN</td>\n      <td>None</td>\n      <td>None</td>\n      <td>False</td>\n      <td>None</td>\n      <td>NaN</td>\n    </tr>\n  </tbody>\n</table>\n<p>5 rows × 38 columns</p>\n</div>"
     },
     "execution_count": 4,
     "metadata": {},
     "output_type": "execute_result"
    }
   ],
   "source": [
    "# Sort values by first approval year and the name\n",
    "ad_df = ad_df.sort_values(by=['first_approval', 'pref_name'])\n",
    "ad_df.head()"
   ]
  },
  {
   "cell_type": "markdown",
   "source": [
    "I was not sure if we should download the molecules filter (as in the Live Notebook example from Github, or the drugs filter that's shown further below. I have done both here, but am slightly confused about which is the correct solution."
   ],
   "metadata": {
    "collapsed": false,
    "pycharm": {
     "name": "#%% md\n"
    }
   }
  },
  {
   "cell_type": "code",
   "execution_count": 5,
   "outputs": [
    {
     "name": "stdout",
     "output_type": "stream",
     "text": [
      "Number of approved drugs through newclient.drug:  2938\n"
     ]
    }
   ],
   "source": [
    "drug = new_client.drug\n",
    "res = drug.filter(first_approval_isnull=False).filter(max_phase=4)\n",
    "\n",
    "drug_df = pd.DataFrame(res) # Convert QuerySet into a workable Pandas dataframe\n",
    "\n",
    "approved_drugs_df = drug_df[(drug_df['development_phase'] == 4)]\n",
    "print('Number of approved drugs through newclient.drug: ', len(approved_drugs_df))"
   ],
   "metadata": {
    "collapsed": false,
    "pycharm": {
     "name": "#%%\n"
    }
   }
  },
  {
   "cell_type": "markdown",
   "source": [
    "I'm not sure about the discrepancy here between the number of drugs from the molecule filter and from the drug filter. Seeing as the example in the Notebook says \"Get approved drugs\" from the molecule filter, I assume that's the correct one, but I'm not sure. The targets are in the drug filter, so that's an argument for why the drug filter is the correct one. I work with the drug filter one for further steps."
   ],
   "metadata": {
    "collapsed": false,
    "pycharm": {
     "name": "#%% md\n"
    }
   }
  },
  {
   "cell_type": "markdown",
   "metadata": {
    "pycharm": {
     "name": "#%% md\n"
    }
   },
   "source": [
    "#### 2: For each approved drug *since 2012* that you identified in step (1), retrieve a list of UniProt accession numbers, namely protein targets associated with the drug. On average, how many protein targets are associated with each compound?"
   ]
  },
  {
   "cell_type": "code",
   "execution_count": 6,
   "metadata": {
    "pycharm": {
     "name": "#%%\n"
    }
   },
   "outputs": [
    {
     "name": "stdout",
     "output_type": "stream",
     "text": [
      "Number of approved drugs since 2012:  446\n"
     ]
    },
    {
     "data": {
      "text/plain": "                                            applicants  \\\n397  [Caplin Steriles Ltd, American Regent Inc, Amn...   \n427                                [Chemo Research Sl]   \n527                                         [Uswm Llc]   \n562                                 [Novo Nordisk Inc]   \n601                      [Knight Therapeutics Usa Inc]   \n\n                                    atc_classification  availability_type  \\\n397  [{'code': 'N07AA51', 'description': 'NERVOUS S...                1.0   \n427  [{'code': 'P01CA02', 'description': 'ANTIPARAS...                1.0   \n527  [{'code': 'N07BC04', 'description': 'NERVOUS S...                1.0   \n562  [{'code': 'V04CD06', 'description': 'VARIOUS: ...                1.0   \n601  [{'code': 'P01CX04', 'description': 'ANTIPARAS...                1.0   \n\n    biotherapeutic  black_box black_box_warning  chirality  development_phase  \\\n397           None      False                 0          2                  4   \n427           None      False                 0          2                  4   \n527           None      False                 0          0                  4   \n562           None      False                 0          1                  4   \n601           None       True                 1          0                  4   \n\n     drug_type  first_approval  first_in_class helm_notation  \\\n397          1          2013.0           False          None   \n427          1          2017.0           False          None   \n527          1          2018.0            True          None   \n562          1          2017.0            True          None   \n601          1          2014.0            True          None   \n\n     indication_class molecule_chembl_id  \\\n397       Cholinergic       CHEMBL278020   \n427              None          CHEMBL110   \n527  Antihypertensive        CHEMBL17860   \n562              None       CHEMBL278623   \n601              None          CHEMBL125   \n\n                                   molecule_properties  \\\n397  {'alogp': '1.94', 'aromatic_rings': 1, 'cx_log...   \n427  {'alogp': '1.11', 'aromatic_rings': 2, 'cx_log...   \n527  {'alogp': '2.76', 'aromatic_rings': 1, 'cx_log...   \n562  {'alogp': '1.84', 'aromatic_rings': 4, 'cx_log...   \n601  {'alogp': '5.68', 'aromatic_rings': 0, 'cx_log...   \n\n                                   molecule_structures  \\\n397  {'canonical_smiles': 'CN(C)C(=O)Oc1cccc([N+](C...   \n427  {'canonical_smiles': 'O=C(Cn1ccnc1[N+](=O)[O-]...   \n527  {'canonical_smiles': 'CC(Oc1c(Cl)cccc1Cl)C1=NC...   \n562  {'canonical_smiles': 'CC(C)(N)C(=O)N[C@H](Cc1c...   \n601  {'canonical_smiles': 'CCCCCCCCCCCCCCCCOP(=O)([...   \n\n                                     molecule_synonyms ob_patent   oral  \\\n397  [{'molecule_synonym': 'Miostin', 'syn_type': '...      None  False   \n427  [{'molecule_synonym': 'Benznidazole', 'syn_typ...      None   True   \n527  [{'molecule_synonym': 'Lofexidine', 'syn_type'...      None   True   \n562  [{'molecule_synonym': 'AEZS-130', 'syn_type': ...   6861409   True   \n601  [{'molecule_synonym': 'D-18506', 'syn_type': '...      None   True   \n\n     parenteral  prodrug                                     research_codes  \\\n397        True    False                            [NSC-93753, NSC-757233]   \n427       False    False    [RO-7-1051, RO 07-1051, NSC-299972, RO-07-1051]   \n527       False    False                [MDL-14042, NSC-759654, MDL 14,042]   \n562       False    False  [EP01572, EP 1572, EP-1572, EP-01572, ARD-07, ...   \n601       False    False            [HDPC, NSC-758968, D-18506, NSC-605583]   \n\n     rule_of_five      sc_patent  \\\n397          True           None   \n427          True           None   \n527          True           None   \n562         False  US-6861409-B2   \n601         False           None   \n\n                                              synonyms  topical  usan_stem  \\\n397  [Neostigmine (BAN, MI), Neostigmine methyl sul...    False  -stigmine   \n427              [Benznidazole (FDA, INN, MI, USAN), ]    False  -nidazole   \n527  [Lofexidine (BAN, INN), Lofexidine hydrochlori...    False       None   \n562  [Macimorelin acetate (FDA, USAN), Macimorelin ...    False     -relin   \n601                [Miltefosine (BAN, FDA, INN, MI), ]    False      -fos-   \n\n                                  usan_stem_definition  \\\n397     cholinesterase inhibitors (physostigmine type)   \n427      antiprotozoal substances (metronidazole type)   \n527                                               None   \n562  prehormones or hormone-release stimulating pep...   \n601                              phosphoro-derivatives   \n\n             usan_stem_substem  usan_year withdrawn_class withdrawn_country  \\\n397       -stigmine(-stigmine)        NaN            None              None   \n427       -nidazole(-nidazole)     2016.0            None              None   \n527                       None     1986.0            None              None   \n562  -relin(-relin (-morelin))     2013.0            None              None   \n601               -fos-(-fos-)        NaN            None              None   \n\n    withdrawn_flag withdrawn_reason  withdrawn_year  atc_code_description  \n397              0             None             NaN                   NaN  \n427              0             None             NaN                   NaN  \n527              0             None             NaN                   NaN  \n562              0             None             NaN                   NaN  \n601              0             None             NaN                   NaN  ",
      "text/html": "<div>\n<style scoped>\n    .dataframe tbody tr th:only-of-type {\n        vertical-align: middle;\n    }\n\n    .dataframe tbody tr th {\n        vertical-align: top;\n    }\n\n    .dataframe thead th {\n        text-align: right;\n    }\n</style>\n<table border=\"1\" class=\"dataframe\">\n  <thead>\n    <tr style=\"text-align: right;\">\n      <th></th>\n      <th>applicants</th>\n      <th>atc_classification</th>\n      <th>availability_type</th>\n      <th>biotherapeutic</th>\n      <th>black_box</th>\n      <th>black_box_warning</th>\n      <th>chirality</th>\n      <th>development_phase</th>\n      <th>drug_type</th>\n      <th>first_approval</th>\n      <th>first_in_class</th>\n      <th>helm_notation</th>\n      <th>indication_class</th>\n      <th>molecule_chembl_id</th>\n      <th>molecule_properties</th>\n      <th>molecule_structures</th>\n      <th>molecule_synonyms</th>\n      <th>ob_patent</th>\n      <th>oral</th>\n      <th>parenteral</th>\n      <th>prodrug</th>\n      <th>research_codes</th>\n      <th>rule_of_five</th>\n      <th>sc_patent</th>\n      <th>synonyms</th>\n      <th>topical</th>\n      <th>usan_stem</th>\n      <th>usan_stem_definition</th>\n      <th>usan_stem_substem</th>\n      <th>usan_year</th>\n      <th>withdrawn_class</th>\n      <th>withdrawn_country</th>\n      <th>withdrawn_flag</th>\n      <th>withdrawn_reason</th>\n      <th>withdrawn_year</th>\n      <th>atc_code_description</th>\n    </tr>\n  </thead>\n  <tbody>\n    <tr>\n      <th>397</th>\n      <td>[Caplin Steriles Ltd, American Regent Inc, Amn...</td>\n      <td>[{'code': 'N07AA51', 'description': 'NERVOUS S...</td>\n      <td>1.0</td>\n      <td>None</td>\n      <td>False</td>\n      <td>0</td>\n      <td>2</td>\n      <td>4</td>\n      <td>1</td>\n      <td>2013.0</td>\n      <td>False</td>\n      <td>None</td>\n      <td>Cholinergic</td>\n      <td>CHEMBL278020</td>\n      <td>{'alogp': '1.94', 'aromatic_rings': 1, 'cx_log...</td>\n      <td>{'canonical_smiles': 'CN(C)C(=O)Oc1cccc([N+](C...</td>\n      <td>[{'molecule_synonym': 'Miostin', 'syn_type': '...</td>\n      <td>None</td>\n      <td>False</td>\n      <td>True</td>\n      <td>False</td>\n      <td>[NSC-93753, NSC-757233]</td>\n      <td>True</td>\n      <td>None</td>\n      <td>[Neostigmine (BAN, MI), Neostigmine methyl sul...</td>\n      <td>False</td>\n      <td>-stigmine</td>\n      <td>cholinesterase inhibitors (physostigmine type)</td>\n      <td>-stigmine(-stigmine)</td>\n      <td>NaN</td>\n      <td>None</td>\n      <td>None</td>\n      <td>0</td>\n      <td>None</td>\n      <td>NaN</td>\n      <td>NaN</td>\n    </tr>\n    <tr>\n      <th>427</th>\n      <td>[Chemo Research Sl]</td>\n      <td>[{'code': 'P01CA02', 'description': 'ANTIPARAS...</td>\n      <td>1.0</td>\n      <td>None</td>\n      <td>False</td>\n      <td>0</td>\n      <td>2</td>\n      <td>4</td>\n      <td>1</td>\n      <td>2017.0</td>\n      <td>False</td>\n      <td>None</td>\n      <td>None</td>\n      <td>CHEMBL110</td>\n      <td>{'alogp': '1.11', 'aromatic_rings': 2, 'cx_log...</td>\n      <td>{'canonical_smiles': 'O=C(Cn1ccnc1[N+](=O)[O-]...</td>\n      <td>[{'molecule_synonym': 'Benznidazole', 'syn_typ...</td>\n      <td>None</td>\n      <td>True</td>\n      <td>False</td>\n      <td>False</td>\n      <td>[RO-7-1051, RO 07-1051, NSC-299972, RO-07-1051]</td>\n      <td>True</td>\n      <td>None</td>\n      <td>[Benznidazole (FDA, INN, MI, USAN), ]</td>\n      <td>False</td>\n      <td>-nidazole</td>\n      <td>antiprotozoal substances (metronidazole type)</td>\n      <td>-nidazole(-nidazole)</td>\n      <td>2016.0</td>\n      <td>None</td>\n      <td>None</td>\n      <td>0</td>\n      <td>None</td>\n      <td>NaN</td>\n      <td>NaN</td>\n    </tr>\n    <tr>\n      <th>527</th>\n      <td>[Uswm Llc]</td>\n      <td>[{'code': 'N07BC04', 'description': 'NERVOUS S...</td>\n      <td>1.0</td>\n      <td>None</td>\n      <td>False</td>\n      <td>0</td>\n      <td>0</td>\n      <td>4</td>\n      <td>1</td>\n      <td>2018.0</td>\n      <td>True</td>\n      <td>None</td>\n      <td>Antihypertensive</td>\n      <td>CHEMBL17860</td>\n      <td>{'alogp': '2.76', 'aromatic_rings': 1, 'cx_log...</td>\n      <td>{'canonical_smiles': 'CC(Oc1c(Cl)cccc1Cl)C1=NC...</td>\n      <td>[{'molecule_synonym': 'Lofexidine', 'syn_type'...</td>\n      <td>None</td>\n      <td>True</td>\n      <td>False</td>\n      <td>False</td>\n      <td>[MDL-14042, NSC-759654, MDL 14,042]</td>\n      <td>True</td>\n      <td>None</td>\n      <td>[Lofexidine (BAN, INN), Lofexidine hydrochlori...</td>\n      <td>False</td>\n      <td>None</td>\n      <td>None</td>\n      <td>None</td>\n      <td>1986.0</td>\n      <td>None</td>\n      <td>None</td>\n      <td>0</td>\n      <td>None</td>\n      <td>NaN</td>\n      <td>NaN</td>\n    </tr>\n    <tr>\n      <th>562</th>\n      <td>[Novo Nordisk Inc]</td>\n      <td>[{'code': 'V04CD06', 'description': 'VARIOUS: ...</td>\n      <td>1.0</td>\n      <td>None</td>\n      <td>False</td>\n      <td>0</td>\n      <td>1</td>\n      <td>4</td>\n      <td>1</td>\n      <td>2017.0</td>\n      <td>True</td>\n      <td>None</td>\n      <td>None</td>\n      <td>CHEMBL278623</td>\n      <td>{'alogp': '1.84', 'aromatic_rings': 4, 'cx_log...</td>\n      <td>{'canonical_smiles': 'CC(C)(N)C(=O)N[C@H](Cc1c...</td>\n      <td>[{'molecule_synonym': 'AEZS-130', 'syn_type': ...</td>\n      <td>6861409</td>\n      <td>True</td>\n      <td>False</td>\n      <td>False</td>\n      <td>[EP01572, EP 1572, EP-1572, EP-01572, ARD-07, ...</td>\n      <td>False</td>\n      <td>US-6861409-B2</td>\n      <td>[Macimorelin acetate (FDA, USAN), Macimorelin ...</td>\n      <td>False</td>\n      <td>-relin</td>\n      <td>prehormones or hormone-release stimulating pep...</td>\n      <td>-relin(-relin (-morelin))</td>\n      <td>2013.0</td>\n      <td>None</td>\n      <td>None</td>\n      <td>0</td>\n      <td>None</td>\n      <td>NaN</td>\n      <td>NaN</td>\n    </tr>\n    <tr>\n      <th>601</th>\n      <td>[Knight Therapeutics Usa Inc]</td>\n      <td>[{'code': 'P01CX04', 'description': 'ANTIPARAS...</td>\n      <td>1.0</td>\n      <td>None</td>\n      <td>True</td>\n      <td>1</td>\n      <td>0</td>\n      <td>4</td>\n      <td>1</td>\n      <td>2014.0</td>\n      <td>True</td>\n      <td>None</td>\n      <td>None</td>\n      <td>CHEMBL125</td>\n      <td>{'alogp': '5.68', 'aromatic_rings': 0, 'cx_log...</td>\n      <td>{'canonical_smiles': 'CCCCCCCCCCCCCCCCOP(=O)([...</td>\n      <td>[{'molecule_synonym': 'D-18506', 'syn_type': '...</td>\n      <td>None</td>\n      <td>True</td>\n      <td>False</td>\n      <td>False</td>\n      <td>[HDPC, NSC-758968, D-18506, NSC-605583]</td>\n      <td>False</td>\n      <td>None</td>\n      <td>[Miltefosine (BAN, FDA, INN, MI), ]</td>\n      <td>False</td>\n      <td>-fos-</td>\n      <td>phosphoro-derivatives</td>\n      <td>-fos-(-fos-)</td>\n      <td>NaN</td>\n      <td>None</td>\n      <td>None</td>\n      <td>0</td>\n      <td>None</td>\n      <td>NaN</td>\n      <td>NaN</td>\n    </tr>\n  </tbody>\n</table>\n</div>"
     },
     "execution_count": 6,
     "metadata": {},
     "output_type": "execute_result"
    }
   ],
   "source": [
    "pd.set_option('display.max_columns', None) # See all columns\n",
    "\n",
    "ad_2012 = approved_drugs_df[approved_drugs_df['first_approval'] >= 2012.0] # Filter dataset to include only drugs that were approved after 2012\n",
    "\n",
    "print('Number of approved drugs since 2012: ', len(ad_2012))\n",
    "ad_2012.head(5)"
   ]
  },
  {
   "cell_type": "markdown",
   "source": [
    "In the following cell, I get the activities and link them the drugs from above to their intended targets. Unfortunately, this cell takes a ton of time to load and sometimes it did not load at all. I tried different filters multiple times, but for whatever reason it takes a long time. I have written more code that I think should be correct, but it was tough to test, seeing as the data I need was never retrieved correctly and in time. Sometimes the kernel even timed out."
   ],
   "metadata": {
    "collapsed": false,
    "pycharm": {
     "name": "#%% md\n"
    }
   }
  },
  {
   "cell_type": "code",
   "execution_count": 7,
   "outputs": [
    {
     "ename": "KeyboardInterrupt",
     "evalue": "",
     "output_type": "error",
     "traceback": [
      "\u001B[1;31m---------------------------------------------------------------------------\u001B[0m",
      "\u001B[1;31mKeyboardInterrupt\u001B[0m                         Traceback (most recent call last)",
      "\u001B[1;32m~\\AppData\\Local\\Temp/ipykernel_1248/1550473706.py\u001B[0m in \u001B[0;36m<module>\u001B[1;34m\u001B[0m\n\u001B[0;32m      2\u001B[0m \u001B[1;33m\u001B[0m\u001B[0m\n\u001B[0;32m      3\u001B[0m \u001B[0mactivities\u001B[0m \u001B[1;33m=\u001B[0m \u001B[0mnew_client\u001B[0m\u001B[1;33m.\u001B[0m\u001B[0mactivity\u001B[0m\u001B[1;33m.\u001B[0m\u001B[0mfilter\u001B[0m\u001B[1;33m(\u001B[0m\u001B[0mmolecule_chembl_id__in\u001B[0m \u001B[1;33m=\u001B[0m \u001B[0mlist\u001B[0m\u001B[1;33m(\u001B[0m\u001B[0mapproved_drugs_df\u001B[0m\u001B[1;33m.\u001B[0m\u001B[0mmolecule_chembl_id\u001B[0m\u001B[1;33m)\u001B[0m\u001B[1;33m)\u001B[0m\u001B[1;33m.\u001B[0m\u001B[0monly\u001B[0m\u001B[1;33m(\u001B[0m\u001B[1;33m[\u001B[0m\u001B[1;34m'molecule_chembl_id'\u001B[0m\u001B[1;33m,\u001B[0m \u001B[1;34m'target_chembl_id'\u001B[0m\u001B[1;33m]\u001B[0m\u001B[1;33m)\u001B[0m\u001B[1;33m\u001B[0m\u001B[1;33m\u001B[0m\u001B[0m\n\u001B[1;32m----> 4\u001B[1;33m \u001B[0mtargets_id\u001B[0m \u001B[1;33m=\u001B[0m \u001B[1;33m[\u001B[0m\u001B[0ma\u001B[0m\u001B[1;33m[\u001B[0m\u001B[1;34m'target_chembl_id'\u001B[0m\u001B[1;33m]\u001B[0m \u001B[1;32mfor\u001B[0m \u001B[0ma\u001B[0m \u001B[1;32min\u001B[0m \u001B[0mactivities\u001B[0m\u001B[1;33m]\u001B[0m\u001B[1;33m\u001B[0m\u001B[1;33m\u001B[0m\u001B[0m\n\u001B[0m\u001B[0;32m      5\u001B[0m \u001B[0mactivities_df\u001B[0m \u001B[1;33m=\u001B[0m \u001B[0mpd\u001B[0m\u001B[1;33m.\u001B[0m\u001B[0mDataFrame\u001B[0m\u001B[1;33m(\u001B[0m\u001B[0mactivities\u001B[0m\u001B[1;33m)\u001B[0m\u001B[1;33m\u001B[0m\u001B[1;33m\u001B[0m\u001B[0m\n\u001B[0;32m      6\u001B[0m \u001B[0mactivities_df\u001B[0m\u001B[1;33m\u001B[0m\u001B[1;33m\u001B[0m\u001B[0m\n",
      "\u001B[1;32m~\\AppData\\Local\\Temp/ipykernel_1248/1550473706.py\u001B[0m in \u001B[0;36m<listcomp>\u001B[1;34m(.0)\u001B[0m\n\u001B[0;32m      2\u001B[0m \u001B[1;33m\u001B[0m\u001B[0m\n\u001B[0;32m      3\u001B[0m \u001B[0mactivities\u001B[0m \u001B[1;33m=\u001B[0m \u001B[0mnew_client\u001B[0m\u001B[1;33m.\u001B[0m\u001B[0mactivity\u001B[0m\u001B[1;33m.\u001B[0m\u001B[0mfilter\u001B[0m\u001B[1;33m(\u001B[0m\u001B[0mmolecule_chembl_id__in\u001B[0m \u001B[1;33m=\u001B[0m \u001B[0mlist\u001B[0m\u001B[1;33m(\u001B[0m\u001B[0mapproved_drugs_df\u001B[0m\u001B[1;33m.\u001B[0m\u001B[0mmolecule_chembl_id\u001B[0m\u001B[1;33m)\u001B[0m\u001B[1;33m)\u001B[0m\u001B[1;33m.\u001B[0m\u001B[0monly\u001B[0m\u001B[1;33m(\u001B[0m\u001B[1;33m[\u001B[0m\u001B[1;34m'molecule_chembl_id'\u001B[0m\u001B[1;33m,\u001B[0m \u001B[1;34m'target_chembl_id'\u001B[0m\u001B[1;33m]\u001B[0m\u001B[1;33m)\u001B[0m\u001B[1;33m\u001B[0m\u001B[1;33m\u001B[0m\u001B[0m\n\u001B[1;32m----> 4\u001B[1;33m \u001B[0mtargets_id\u001B[0m \u001B[1;33m=\u001B[0m \u001B[1;33m[\u001B[0m\u001B[0ma\u001B[0m\u001B[1;33m[\u001B[0m\u001B[1;34m'target_chembl_id'\u001B[0m\u001B[1;33m]\u001B[0m \u001B[1;32mfor\u001B[0m \u001B[0ma\u001B[0m \u001B[1;32min\u001B[0m \u001B[0mactivities\u001B[0m\u001B[1;33m]\u001B[0m\u001B[1;33m\u001B[0m\u001B[1;33m\u001B[0m\u001B[0m\n\u001B[0m\u001B[0;32m      5\u001B[0m \u001B[0mactivities_df\u001B[0m \u001B[1;33m=\u001B[0m \u001B[0mpd\u001B[0m\u001B[1;33m.\u001B[0m\u001B[0mDataFrame\u001B[0m\u001B[1;33m(\u001B[0m\u001B[0mactivities\u001B[0m\u001B[1;33m)\u001B[0m\u001B[1;33m\u001B[0m\u001B[1;33m\u001B[0m\u001B[0m\n\u001B[0;32m      6\u001B[0m \u001B[0mactivities_df\u001B[0m\u001B[1;33m\u001B[0m\u001B[1;33m\u001B[0m\u001B[0m\n",
      "\u001B[1;32m~\\anaconda3\\lib\\site-packages\\chembl_webresource_client\\query_set.py\u001B[0m in \u001B[0;36m__next__\u001B[1;34m(self)\u001B[0m\n\u001B[0;32m    125\u001B[0m \u001B[1;33m\u001B[0m\u001B[0m\n\u001B[0;32m    126\u001B[0m     \u001B[1;32mdef\u001B[0m \u001B[0m__next__\u001B[0m\u001B[1;33m(\u001B[0m\u001B[0mself\u001B[0m\u001B[1;33m)\u001B[0m\u001B[1;33m:\u001B[0m\u001B[1;33m\u001B[0m\u001B[1;33m\u001B[0m\u001B[0m\n\u001B[1;32m--> 127\u001B[1;33m         \u001B[1;32mreturn\u001B[0m \u001B[0mself\u001B[0m\u001B[1;33m.\u001B[0m\u001B[0mnext\u001B[0m\u001B[1;33m(\u001B[0m\u001B[1;33m)\u001B[0m\u001B[1;33m\u001B[0m\u001B[1;33m\u001B[0m\u001B[0m\n\u001B[0m\u001B[0;32m    128\u001B[0m \u001B[1;33m\u001B[0m\u001B[0m\n\u001B[0;32m    129\u001B[0m \u001B[1;31m#-----------------------------------------------------------------------------------------------------------------------\u001B[0m\u001B[1;33m\u001B[0m\u001B[1;33m\u001B[0m\u001B[0m\n",
      "\u001B[1;32m~\\anaconda3\\lib\\site-packages\\chembl_webresource_client\\query_set.py\u001B[0m in \u001B[0;36mnext\u001B[1;34m(self)\u001B[0m\n\u001B[0;32m    113\u001B[0m             \u001B[0mself\u001B[0m\u001B[1;33m.\u001B[0m\u001B[0mchunk\u001B[0m \u001B[1;33m=\u001B[0m \u001B[0mself\u001B[0m\u001B[1;33m.\u001B[0m\u001B[0mquery\u001B[0m\u001B[1;33m.\u001B[0m\u001B[0mget_page\u001B[0m\u001B[1;33m(\u001B[0m\u001B[1;33m)\u001B[0m\u001B[1;33m\u001B[0m\u001B[1;33m\u001B[0m\u001B[0m\n\u001B[0;32m    114\u001B[0m         \u001B[1;32mif\u001B[0m \u001B[1;32mnot\u001B[0m \u001B[0mself\u001B[0m\u001B[1;33m.\u001B[0m\u001B[0mchunk\u001B[0m \u001B[1;32mor\u001B[0m \u001B[0mself\u001B[0m\u001B[1;33m.\u001B[0m\u001B[0mcurrent_index\u001B[0m \u001B[1;33m>=\u001B[0m \u001B[0mlen\u001B[0m\u001B[1;33m(\u001B[0m\u001B[0mself\u001B[0m\u001B[1;33m.\u001B[0m\u001B[0mchunk\u001B[0m\u001B[1;33m)\u001B[0m\u001B[1;33m:\u001B[0m\u001B[1;33m\u001B[0m\u001B[1;33m\u001B[0m\u001B[0m\n\u001B[1;32m--> 115\u001B[1;33m             \u001B[0mself\u001B[0m\u001B[1;33m.\u001B[0m\u001B[0mchunk\u001B[0m \u001B[1;33m=\u001B[0m \u001B[0mself\u001B[0m\u001B[1;33m.\u001B[0m\u001B[0mquery\u001B[0m\u001B[1;33m.\u001B[0m\u001B[0mnext_page\u001B[0m\u001B[1;33m(\u001B[0m\u001B[1;33m)\u001B[0m\u001B[1;33m\u001B[0m\u001B[1;33m\u001B[0m\u001B[0m\n\u001B[0m\u001B[0;32m    116\u001B[0m             \u001B[1;32mif\u001B[0m \u001B[1;32mnot\u001B[0m \u001B[0mself\u001B[0m\u001B[1;33m.\u001B[0m\u001B[0mchunk\u001B[0m\u001B[1;33m:\u001B[0m\u001B[1;33m\u001B[0m\u001B[1;33m\u001B[0m\u001B[0m\n\u001B[0;32m    117\u001B[0m                 \u001B[1;32mraise\u001B[0m \u001B[0mStopIteration\u001B[0m\u001B[1;33m\u001B[0m\u001B[1;33m\u001B[0m\u001B[0m\n",
      "\u001B[1;32m~\\anaconda3\\lib\\site-packages\\chembl_webresource_client\\url_query.py\u001B[0m in \u001B[0;36mnext_page\u001B[1;34m(self)\u001B[0m\n\u001B[0;32m    432\u001B[0m         \u001B[0mstart\u001B[0m \u001B[1;33m=\u001B[0m \u001B[0mself\u001B[0m\u001B[1;33m.\u001B[0m\u001B[0mstart\u001B[0m\u001B[1;33m\u001B[0m\u001B[1;33m\u001B[0m\u001B[0m\n\u001B[0;32m    433\u001B[0m         \u001B[0mself\u001B[0m\u001B[1;33m.\u001B[0m\u001B[0mcurrent_index\u001B[0m \u001B[1;33m=\u001B[0m \u001B[0mint\u001B[0m\u001B[1;33m(\u001B[0m\u001B[0mstart\u001B[0m \u001B[1;33m+\u001B[0m \u001B[0mself\u001B[0m\u001B[1;33m.\u001B[0m\u001B[0mlimit\u001B[0m \u001B[1;33m*\u001B[0m \u001B[1;33m(\u001B[0m\u001B[0mself\u001B[0m\u001B[1;33m.\u001B[0m\u001B[0mcurrent_page\u001B[0m \u001B[1;33m+\u001B[0m \u001B[1;36m1\u001B[0m\u001B[1;33m)\u001B[0m\u001B[1;33m)\u001B[0m\u001B[1;33m\u001B[0m\u001B[1;33m\u001B[0m\u001B[0m\n\u001B[1;32m--> 434\u001B[1;33m         \u001B[1;32mreturn\u001B[0m \u001B[0mself\u001B[0m\u001B[1;33m.\u001B[0m\u001B[0mget_page\u001B[0m\u001B[1;33m(\u001B[0m\u001B[1;33m)\u001B[0m\u001B[1;33m\u001B[0m\u001B[1;33m\u001B[0m\u001B[0m\n\u001B[0m\u001B[0;32m    435\u001B[0m \u001B[1;33m\u001B[0m\u001B[0m\n\u001B[0;32m    436\u001B[0m \u001B[1;31m# ----------------------------------------------------------------------------------------------------------------------\u001B[0m\u001B[1;33m\u001B[0m\u001B[1;33m\u001B[0m\u001B[0m\n",
      "\u001B[1;32m~\\anaconda3\\lib\\site-packages\\chembl_webresource_client\\url_query.py\u001B[0m in \u001B[0;36mget_page\u001B[1;34m(self)\u001B[0m\n\u001B[0;32m    387\u001B[0m             \u001B[0mdata\u001B[0m \u001B[1;33m=\u001B[0m \u001B[0mself\u001B[0m\u001B[1;33m.\u001B[0m\u001B[0m_prepare_url_params\u001B[0m\u001B[1;33m(\u001B[0m\u001B[1;33m)\u001B[0m\u001B[1;33m\u001B[0m\u001B[1;33m\u001B[0m\u001B[0m\n\u001B[0;32m    388\u001B[0m             \u001B[1;32mwith\u001B[0m \u001B[0mself\u001B[0m\u001B[1;33m.\u001B[0m\u001B[0m_get_session\u001B[0m\u001B[1;33m(\u001B[0m\u001B[1;33m)\u001B[0m \u001B[1;32mas\u001B[0m \u001B[0msession\u001B[0m\u001B[1;33m:\u001B[0m\u001B[1;33m\u001B[0m\u001B[1;33m\u001B[0m\u001B[0m\n\u001B[1;32m--> 389\u001B[1;33m                 \u001B[0mres\u001B[0m \u001B[1;33m=\u001B[0m \u001B[0msession\u001B[0m\u001B[1;33m.\u001B[0m\u001B[0mpost\u001B[0m\u001B[1;33m(\u001B[0m\u001B[0mself\u001B[0m\u001B[1;33m.\u001B[0m\u001B[0mbase_url\u001B[0m \u001B[1;33m+\u001B[0m \u001B[1;34m'.'\u001B[0m \u001B[1;33m+\u001B[0m \u001B[0mself\u001B[0m\u001B[1;33m.\u001B[0m\u001B[0mfrmt\u001B[0m\u001B[1;33m,\u001B[0m \u001B[0mjson\u001B[0m\u001B[1;33m=\u001B[0m\u001B[0mdata\u001B[0m\u001B[1;33m,\u001B[0m \u001B[0mtimeout\u001B[0m\u001B[1;33m=\u001B[0m\u001B[0mself\u001B[0m\u001B[1;33m.\u001B[0m\u001B[0mtimeout\u001B[0m\u001B[1;33m)\u001B[0m\u001B[1;33m\u001B[0m\u001B[1;33m\u001B[0m\u001B[0m\n\u001B[0m\u001B[0;32m    390\u001B[0m             \u001B[0mself\u001B[0m\u001B[1;33m.\u001B[0m\u001B[0mlogger\u001B[0m\u001B[1;33m.\u001B[0m\u001B[0minfo\u001B[0m\u001B[1;33m(\u001B[0m\u001B[0mres\u001B[0m\u001B[1;33m.\u001B[0m\u001B[0murl\u001B[0m\u001B[1;33m)\u001B[0m\u001B[1;33m\u001B[0m\u001B[1;33m\u001B[0m\u001B[0m\n\u001B[0;32m    391\u001B[0m             \u001B[0mself\u001B[0m\u001B[1;33m.\u001B[0m\u001B[0mlogger\u001B[0m\u001B[1;33m.\u001B[0m\u001B[0minfo\u001B[0m\u001B[1;33m(\u001B[0m\u001B[0mdata\u001B[0m\u001B[1;33m)\u001B[0m\u001B[1;33m\u001B[0m\u001B[1;33m\u001B[0m\u001B[0m\n",
      "\u001B[1;32m~\\anaconda3\\lib\\site-packages\\requests\\sessions.py\u001B[0m in \u001B[0;36mpost\u001B[1;34m(self, url, data, json, **kwargs)\u001B[0m\n\u001B[0;32m    588\u001B[0m         \"\"\"\n\u001B[0;32m    589\u001B[0m \u001B[1;33m\u001B[0m\u001B[0m\n\u001B[1;32m--> 590\u001B[1;33m         \u001B[1;32mreturn\u001B[0m \u001B[0mself\u001B[0m\u001B[1;33m.\u001B[0m\u001B[0mrequest\u001B[0m\u001B[1;33m(\u001B[0m\u001B[1;34m'POST'\u001B[0m\u001B[1;33m,\u001B[0m \u001B[0murl\u001B[0m\u001B[1;33m,\u001B[0m \u001B[0mdata\u001B[0m\u001B[1;33m=\u001B[0m\u001B[0mdata\u001B[0m\u001B[1;33m,\u001B[0m \u001B[0mjson\u001B[0m\u001B[1;33m=\u001B[0m\u001B[0mjson\u001B[0m\u001B[1;33m,\u001B[0m \u001B[1;33m**\u001B[0m\u001B[0mkwargs\u001B[0m\u001B[1;33m)\u001B[0m\u001B[1;33m\u001B[0m\u001B[1;33m\u001B[0m\u001B[0m\n\u001B[0m\u001B[0;32m    591\u001B[0m \u001B[1;33m\u001B[0m\u001B[0m\n\u001B[0;32m    592\u001B[0m     \u001B[1;32mdef\u001B[0m \u001B[0mput\u001B[0m\u001B[1;33m(\u001B[0m\u001B[0mself\u001B[0m\u001B[1;33m,\u001B[0m \u001B[0murl\u001B[0m\u001B[1;33m,\u001B[0m \u001B[0mdata\u001B[0m\u001B[1;33m=\u001B[0m\u001B[1;32mNone\u001B[0m\u001B[1;33m,\u001B[0m \u001B[1;33m**\u001B[0m\u001B[0mkwargs\u001B[0m\u001B[1;33m)\u001B[0m\u001B[1;33m:\u001B[0m\u001B[1;33m\u001B[0m\u001B[1;33m\u001B[0m\u001B[0m\n",
      "\u001B[1;32m~\\anaconda3\\lib\\site-packages\\requests_cache\\session.py\u001B[0m in \u001B[0;36mrequest\u001B[1;34m(self, method, url, params, data, json, expire_after, **kwargs)\u001B[0m\n\u001B[0;32m     99\u001B[0m         \"\"\"\n\u001B[0;32m    100\u001B[0m         \u001B[1;32mwith\u001B[0m \u001B[0mself\u001B[0m\u001B[1;33m.\u001B[0m\u001B[0mrequest_expire_after\u001B[0m\u001B[1;33m(\u001B[0m\u001B[0mexpire_after\u001B[0m\u001B[1;33m)\u001B[0m\u001B[1;33m,\u001B[0m \u001B[0mpatch_form_boundary\u001B[0m\u001B[1;33m(\u001B[0m\u001B[1;33m**\u001B[0m\u001B[0mkwargs\u001B[0m\u001B[1;33m)\u001B[0m\u001B[1;33m:\u001B[0m\u001B[1;33m\u001B[0m\u001B[1;33m\u001B[0m\u001B[0m\n\u001B[1;32m--> 101\u001B[1;33m             return super().request(\n\u001B[0m\u001B[0;32m    102\u001B[0m                 \u001B[0mmethod\u001B[0m\u001B[1;33m,\u001B[0m\u001B[1;33m\u001B[0m\u001B[1;33m\u001B[0m\u001B[0m\n\u001B[0;32m    103\u001B[0m                 \u001B[0murl\u001B[0m\u001B[1;33m,\u001B[0m\u001B[1;33m\u001B[0m\u001B[1;33m\u001B[0m\u001B[0m\n",
      "\u001B[1;32m~\\anaconda3\\lib\\site-packages\\requests\\sessions.py\u001B[0m in \u001B[0;36mrequest\u001B[1;34m(self, method, url, params, data, headers, cookies, files, auth, timeout, allow_redirects, proxies, hooks, stream, verify, cert, json)\u001B[0m\n\u001B[0;32m    540\u001B[0m         }\n\u001B[0;32m    541\u001B[0m         \u001B[0msend_kwargs\u001B[0m\u001B[1;33m.\u001B[0m\u001B[0mupdate\u001B[0m\u001B[1;33m(\u001B[0m\u001B[0msettings\u001B[0m\u001B[1;33m)\u001B[0m\u001B[1;33m\u001B[0m\u001B[1;33m\u001B[0m\u001B[0m\n\u001B[1;32m--> 542\u001B[1;33m         \u001B[0mresp\u001B[0m \u001B[1;33m=\u001B[0m \u001B[0mself\u001B[0m\u001B[1;33m.\u001B[0m\u001B[0msend\u001B[0m\u001B[1;33m(\u001B[0m\u001B[0mprep\u001B[0m\u001B[1;33m,\u001B[0m \u001B[1;33m**\u001B[0m\u001B[0msend_kwargs\u001B[0m\u001B[1;33m)\u001B[0m\u001B[1;33m\u001B[0m\u001B[1;33m\u001B[0m\u001B[0m\n\u001B[0m\u001B[0;32m    543\u001B[0m \u001B[1;33m\u001B[0m\u001B[0m\n\u001B[0;32m    544\u001B[0m         \u001B[1;32mreturn\u001B[0m \u001B[0mresp\u001B[0m\u001B[1;33m\u001B[0m\u001B[1;33m\u001B[0m\u001B[0m\n",
      "\u001B[1;32m~\\anaconda3\\lib\\site-packages\\requests_cache\\session.py\u001B[0m in \u001B[0;36msend\u001B[1;34m(self, request, **kwargs)\u001B[0m\n\u001B[0;32m    130\u001B[0m         \u001B[1;31m# If the cache is disabled, doesn't have the response, or it's expired, then fetch a new one\u001B[0m\u001B[1;33m\u001B[0m\u001B[1;33m\u001B[0m\u001B[0m\n\u001B[0;32m    131\u001B[0m         \u001B[1;32mif\u001B[0m \u001B[0mresponse\u001B[0m \u001B[1;32mis\u001B[0m \u001B[1;32mNone\u001B[0m\u001B[1;33m:\u001B[0m\u001B[1;33m\u001B[0m\u001B[1;33m\u001B[0m\u001B[0m\n\u001B[1;32m--> 132\u001B[1;33m             \u001B[0mresponse\u001B[0m \u001B[1;33m=\u001B[0m \u001B[0mself\u001B[0m\u001B[1;33m.\u001B[0m\u001B[0m_send_and_cache\u001B[0m\u001B[1;33m(\u001B[0m\u001B[0mrequest\u001B[0m\u001B[1;33m,\u001B[0m \u001B[0mactions\u001B[0m\u001B[1;33m,\u001B[0m \u001B[1;33m**\u001B[0m\u001B[0mkwargs\u001B[0m\u001B[1;33m)\u001B[0m\u001B[1;33m\u001B[0m\u001B[1;33m\u001B[0m\u001B[0m\n\u001B[0m\u001B[0;32m    133\u001B[0m         \u001B[1;32melif\u001B[0m \u001B[0mis_expired\u001B[0m \u001B[1;32mand\u001B[0m \u001B[0mself\u001B[0m\u001B[1;33m.\u001B[0m\u001B[0mold_data_on_error\u001B[0m\u001B[1;33m:\u001B[0m\u001B[1;33m\u001B[0m\u001B[1;33m\u001B[0m\u001B[0m\n\u001B[0;32m    134\u001B[0m             \u001B[0mresponse\u001B[0m \u001B[1;33m=\u001B[0m \u001B[0mself\u001B[0m\u001B[1;33m.\u001B[0m\u001B[0m_resend_and_ignore\u001B[0m\u001B[1;33m(\u001B[0m\u001B[0mrequest\u001B[0m\u001B[1;33m,\u001B[0m \u001B[0mactions\u001B[0m\u001B[1;33m,\u001B[0m \u001B[1;33m**\u001B[0m\u001B[0mkwargs\u001B[0m\u001B[1;33m)\u001B[0m \u001B[1;32mor\u001B[0m \u001B[0mresponse\u001B[0m\u001B[1;33m\u001B[0m\u001B[1;33m\u001B[0m\u001B[0m\n",
      "\u001B[1;32m~\\anaconda3\\lib\\site-packages\\requests_cache\\session.py\u001B[0m in \u001B[0;36m_send_and_cache\u001B[1;34m(self, request, actions, **kwargs)\u001B[0m\n\u001B[0;32m    154\u001B[0m     \u001B[1;32mdef\u001B[0m \u001B[0m_send_and_cache\u001B[0m\u001B[1;33m(\u001B[0m\u001B[0mself\u001B[0m\u001B[1;33m,\u001B[0m \u001B[0mrequest\u001B[0m\u001B[1;33m:\u001B[0m \u001B[0mPreparedRequest\u001B[0m\u001B[1;33m,\u001B[0m \u001B[0mactions\u001B[0m\u001B[1;33m:\u001B[0m \u001B[0mCacheActions\u001B[0m\u001B[1;33m,\u001B[0m \u001B[1;33m**\u001B[0m\u001B[0mkwargs\u001B[0m\u001B[1;33m)\u001B[0m\u001B[1;33m:\u001B[0m\u001B[1;33m\u001B[0m\u001B[1;33m\u001B[0m\u001B[0m\n\u001B[0;32m    155\u001B[0m         \u001B[1;34m\"\"\"Send the request and cache the response, unless disabled by settings or headers\"\"\"\u001B[0m\u001B[1;33m\u001B[0m\u001B[1;33m\u001B[0m\u001B[0m\n\u001B[1;32m--> 156\u001B[1;33m         \u001B[0mresponse\u001B[0m \u001B[1;33m=\u001B[0m \u001B[0msuper\u001B[0m\u001B[1;33m(\u001B[0m\u001B[1;33m)\u001B[0m\u001B[1;33m.\u001B[0m\u001B[0msend\u001B[0m\u001B[1;33m(\u001B[0m\u001B[0mrequest\u001B[0m\u001B[1;33m,\u001B[0m \u001B[1;33m**\u001B[0m\u001B[0mkwargs\u001B[0m\u001B[1;33m)\u001B[0m\u001B[1;33m\u001B[0m\u001B[1;33m\u001B[0m\u001B[0m\n\u001B[0m\u001B[0;32m    157\u001B[0m         \u001B[0mactions\u001B[0m\u001B[1;33m.\u001B[0m\u001B[0mupdate_from_response\u001B[0m\u001B[1;33m(\u001B[0m\u001B[0mresponse\u001B[0m\u001B[1;33m)\u001B[0m\u001B[1;33m\u001B[0m\u001B[1;33m\u001B[0m\u001B[0m\n\u001B[0;32m    158\u001B[0m \u001B[1;33m\u001B[0m\u001B[0m\n",
      "\u001B[1;32m~\\anaconda3\\lib\\site-packages\\requests\\sessions.py\u001B[0m in \u001B[0;36msend\u001B[1;34m(self, request, **kwargs)\u001B[0m\n\u001B[0;32m    653\u001B[0m \u001B[1;33m\u001B[0m\u001B[0m\n\u001B[0;32m    654\u001B[0m         \u001B[1;31m# Send the request\u001B[0m\u001B[1;33m\u001B[0m\u001B[1;33m\u001B[0m\u001B[0m\n\u001B[1;32m--> 655\u001B[1;33m         \u001B[0mr\u001B[0m \u001B[1;33m=\u001B[0m \u001B[0madapter\u001B[0m\u001B[1;33m.\u001B[0m\u001B[0msend\u001B[0m\u001B[1;33m(\u001B[0m\u001B[0mrequest\u001B[0m\u001B[1;33m,\u001B[0m \u001B[1;33m**\u001B[0m\u001B[0mkwargs\u001B[0m\u001B[1;33m)\u001B[0m\u001B[1;33m\u001B[0m\u001B[1;33m\u001B[0m\u001B[0m\n\u001B[0m\u001B[0;32m    656\u001B[0m \u001B[1;33m\u001B[0m\u001B[0m\n\u001B[0;32m    657\u001B[0m         \u001B[1;31m# Total elapsed time of the request (approximately)\u001B[0m\u001B[1;33m\u001B[0m\u001B[1;33m\u001B[0m\u001B[0m\n",
      "\u001B[1;32m~\\anaconda3\\lib\\site-packages\\requests\\adapters.py\u001B[0m in \u001B[0;36msend\u001B[1;34m(self, request, stream, timeout, verify, cert, proxies)\u001B[0m\n\u001B[0;32m    437\u001B[0m         \u001B[1;32mtry\u001B[0m\u001B[1;33m:\u001B[0m\u001B[1;33m\u001B[0m\u001B[1;33m\u001B[0m\u001B[0m\n\u001B[0;32m    438\u001B[0m             \u001B[1;32mif\u001B[0m \u001B[1;32mnot\u001B[0m \u001B[0mchunked\u001B[0m\u001B[1;33m:\u001B[0m\u001B[1;33m\u001B[0m\u001B[1;33m\u001B[0m\u001B[0m\n\u001B[1;32m--> 439\u001B[1;33m                 resp = conn.urlopen(\n\u001B[0m\u001B[0;32m    440\u001B[0m                     \u001B[0mmethod\u001B[0m\u001B[1;33m=\u001B[0m\u001B[0mrequest\u001B[0m\u001B[1;33m.\u001B[0m\u001B[0mmethod\u001B[0m\u001B[1;33m,\u001B[0m\u001B[1;33m\u001B[0m\u001B[1;33m\u001B[0m\u001B[0m\n\u001B[0;32m    441\u001B[0m                     \u001B[0murl\u001B[0m\u001B[1;33m=\u001B[0m\u001B[0murl\u001B[0m\u001B[1;33m,\u001B[0m\u001B[1;33m\u001B[0m\u001B[1;33m\u001B[0m\u001B[0m\n",
      "\u001B[1;32m~\\anaconda3\\lib\\site-packages\\urllib3\\connectionpool.py\u001B[0m in \u001B[0;36murlopen\u001B[1;34m(self, method, url, body, headers, retries, redirect, assert_same_host, timeout, pool_timeout, release_conn, chunked, body_pos, **response_kw)\u001B[0m\n\u001B[0;32m    697\u001B[0m \u001B[1;33m\u001B[0m\u001B[0m\n\u001B[0;32m    698\u001B[0m             \u001B[1;31m# Make the request on the httplib connection object.\u001B[0m\u001B[1;33m\u001B[0m\u001B[1;33m\u001B[0m\u001B[0m\n\u001B[1;32m--> 699\u001B[1;33m             httplib_response = self._make_request(\n\u001B[0m\u001B[0;32m    700\u001B[0m                 \u001B[0mconn\u001B[0m\u001B[1;33m,\u001B[0m\u001B[1;33m\u001B[0m\u001B[1;33m\u001B[0m\u001B[0m\n\u001B[0;32m    701\u001B[0m                 \u001B[0mmethod\u001B[0m\u001B[1;33m,\u001B[0m\u001B[1;33m\u001B[0m\u001B[1;33m\u001B[0m\u001B[0m\n",
      "\u001B[1;32m~\\anaconda3\\lib\\site-packages\\urllib3\\connectionpool.py\u001B[0m in \u001B[0;36m_make_request\u001B[1;34m(self, conn, method, url, timeout, chunked, **httplib_request_kw)\u001B[0m\n\u001B[0;32m    380\u001B[0m         \u001B[1;31m# Trigger any extra validation we need to do.\u001B[0m\u001B[1;33m\u001B[0m\u001B[1;33m\u001B[0m\u001B[0m\n\u001B[0;32m    381\u001B[0m         \u001B[1;32mtry\u001B[0m\u001B[1;33m:\u001B[0m\u001B[1;33m\u001B[0m\u001B[1;33m\u001B[0m\u001B[0m\n\u001B[1;32m--> 382\u001B[1;33m             \u001B[0mself\u001B[0m\u001B[1;33m.\u001B[0m\u001B[0m_validate_conn\u001B[0m\u001B[1;33m(\u001B[0m\u001B[0mconn\u001B[0m\u001B[1;33m)\u001B[0m\u001B[1;33m\u001B[0m\u001B[1;33m\u001B[0m\u001B[0m\n\u001B[0m\u001B[0;32m    383\u001B[0m         \u001B[1;32mexcept\u001B[0m \u001B[1;33m(\u001B[0m\u001B[0mSocketTimeout\u001B[0m\u001B[1;33m,\u001B[0m \u001B[0mBaseSSLError\u001B[0m\u001B[1;33m)\u001B[0m \u001B[1;32mas\u001B[0m \u001B[0me\u001B[0m\u001B[1;33m:\u001B[0m\u001B[1;33m\u001B[0m\u001B[1;33m\u001B[0m\u001B[0m\n\u001B[0;32m    384\u001B[0m             \u001B[1;31m# Py2 raises this as a BaseSSLError, Py3 raises it as socket timeout.\u001B[0m\u001B[1;33m\u001B[0m\u001B[1;33m\u001B[0m\u001B[0m\n",
      "\u001B[1;32m~\\anaconda3\\lib\\site-packages\\urllib3\\connectionpool.py\u001B[0m in \u001B[0;36m_validate_conn\u001B[1;34m(self, conn)\u001B[0m\n\u001B[0;32m   1008\u001B[0m         \u001B[1;31m# Force connect early to allow us to validate the connection.\u001B[0m\u001B[1;33m\u001B[0m\u001B[1;33m\u001B[0m\u001B[0m\n\u001B[0;32m   1009\u001B[0m         \u001B[1;32mif\u001B[0m \u001B[1;32mnot\u001B[0m \u001B[0mgetattr\u001B[0m\u001B[1;33m(\u001B[0m\u001B[0mconn\u001B[0m\u001B[1;33m,\u001B[0m \u001B[1;34m\"sock\"\u001B[0m\u001B[1;33m,\u001B[0m \u001B[1;32mNone\u001B[0m\u001B[1;33m)\u001B[0m\u001B[1;33m:\u001B[0m  \u001B[1;31m# AppEngine might not have  `.sock`\u001B[0m\u001B[1;33m\u001B[0m\u001B[1;33m\u001B[0m\u001B[0m\n\u001B[1;32m-> 1010\u001B[1;33m             \u001B[0mconn\u001B[0m\u001B[1;33m.\u001B[0m\u001B[0mconnect\u001B[0m\u001B[1;33m(\u001B[0m\u001B[1;33m)\u001B[0m\u001B[1;33m\u001B[0m\u001B[1;33m\u001B[0m\u001B[0m\n\u001B[0m\u001B[0;32m   1011\u001B[0m \u001B[1;33m\u001B[0m\u001B[0m\n\u001B[0;32m   1012\u001B[0m         \u001B[1;32mif\u001B[0m \u001B[1;32mnot\u001B[0m \u001B[0mconn\u001B[0m\u001B[1;33m.\u001B[0m\u001B[0mis_verified\u001B[0m\u001B[1;33m:\u001B[0m\u001B[1;33m\u001B[0m\u001B[1;33m\u001B[0m\u001B[0m\n",
      "\u001B[1;32m~\\anaconda3\\lib\\site-packages\\urllib3\\connection.py\u001B[0m in \u001B[0;36mconnect\u001B[1;34m(self)\u001B[0m\n\u001B[0;32m    414\u001B[0m             \u001B[0mcontext\u001B[0m\u001B[1;33m.\u001B[0m\u001B[0mload_default_certs\u001B[0m\u001B[1;33m(\u001B[0m\u001B[1;33m)\u001B[0m\u001B[1;33m\u001B[0m\u001B[1;33m\u001B[0m\u001B[0m\n\u001B[0;32m    415\u001B[0m \u001B[1;33m\u001B[0m\u001B[0m\n\u001B[1;32m--> 416\u001B[1;33m         self.sock = ssl_wrap_socket(\n\u001B[0m\u001B[0;32m    417\u001B[0m             \u001B[0msock\u001B[0m\u001B[1;33m=\u001B[0m\u001B[0mconn\u001B[0m\u001B[1;33m,\u001B[0m\u001B[1;33m\u001B[0m\u001B[1;33m\u001B[0m\u001B[0m\n\u001B[0;32m    418\u001B[0m             \u001B[0mkeyfile\u001B[0m\u001B[1;33m=\u001B[0m\u001B[0mself\u001B[0m\u001B[1;33m.\u001B[0m\u001B[0mkey_file\u001B[0m\u001B[1;33m,\u001B[0m\u001B[1;33m\u001B[0m\u001B[1;33m\u001B[0m\u001B[0m\n",
      "\u001B[1;32m~\\anaconda3\\lib\\site-packages\\urllib3\\util\\ssl_.py\u001B[0m in \u001B[0;36mssl_wrap_socket\u001B[1;34m(sock, keyfile, certfile, cert_reqs, ca_certs, server_hostname, ssl_version, ciphers, ssl_context, ca_cert_dir, key_password, ca_cert_data, tls_in_tls)\u001B[0m\n\u001B[0;32m    447\u001B[0m \u001B[1;33m\u001B[0m\u001B[0m\n\u001B[0;32m    448\u001B[0m     \u001B[1;32mif\u001B[0m \u001B[0msend_sni\u001B[0m\u001B[1;33m:\u001B[0m\u001B[1;33m\u001B[0m\u001B[1;33m\u001B[0m\u001B[0m\n\u001B[1;32m--> 449\u001B[1;33m         ssl_sock = _ssl_wrap_socket_impl(\n\u001B[0m\u001B[0;32m    450\u001B[0m             \u001B[0msock\u001B[0m\u001B[1;33m,\u001B[0m \u001B[0mcontext\u001B[0m\u001B[1;33m,\u001B[0m \u001B[0mtls_in_tls\u001B[0m\u001B[1;33m,\u001B[0m \u001B[0mserver_hostname\u001B[0m\u001B[1;33m=\u001B[0m\u001B[0mserver_hostname\u001B[0m\u001B[1;33m\u001B[0m\u001B[1;33m\u001B[0m\u001B[0m\n\u001B[0;32m    451\u001B[0m         )\n",
      "\u001B[1;32m~\\anaconda3\\lib\\site-packages\\urllib3\\util\\ssl_.py\u001B[0m in \u001B[0;36m_ssl_wrap_socket_impl\u001B[1;34m(sock, ssl_context, tls_in_tls, server_hostname)\u001B[0m\n\u001B[0;32m    491\u001B[0m \u001B[1;33m\u001B[0m\u001B[0m\n\u001B[0;32m    492\u001B[0m     \u001B[1;32mif\u001B[0m \u001B[0mserver_hostname\u001B[0m\u001B[1;33m:\u001B[0m\u001B[1;33m\u001B[0m\u001B[1;33m\u001B[0m\u001B[0m\n\u001B[1;32m--> 493\u001B[1;33m         \u001B[1;32mreturn\u001B[0m \u001B[0mssl_context\u001B[0m\u001B[1;33m.\u001B[0m\u001B[0mwrap_socket\u001B[0m\u001B[1;33m(\u001B[0m\u001B[0msock\u001B[0m\u001B[1;33m,\u001B[0m \u001B[0mserver_hostname\u001B[0m\u001B[1;33m=\u001B[0m\u001B[0mserver_hostname\u001B[0m\u001B[1;33m)\u001B[0m\u001B[1;33m\u001B[0m\u001B[1;33m\u001B[0m\u001B[0m\n\u001B[0m\u001B[0;32m    494\u001B[0m     \u001B[1;32melse\u001B[0m\u001B[1;33m:\u001B[0m\u001B[1;33m\u001B[0m\u001B[1;33m\u001B[0m\u001B[0m\n\u001B[0;32m    495\u001B[0m         \u001B[1;32mreturn\u001B[0m \u001B[0mssl_context\u001B[0m\u001B[1;33m.\u001B[0m\u001B[0mwrap_socket\u001B[0m\u001B[1;33m(\u001B[0m\u001B[0msock\u001B[0m\u001B[1;33m)\u001B[0m\u001B[1;33m\u001B[0m\u001B[1;33m\u001B[0m\u001B[0m\n",
      "\u001B[1;32m~\\anaconda3\\lib\\ssl.py\u001B[0m in \u001B[0;36mwrap_socket\u001B[1;34m(self, sock, server_side, do_handshake_on_connect, suppress_ragged_eofs, server_hostname, session)\u001B[0m\n\u001B[0;32m    498\u001B[0m         \u001B[1;31m# SSLSocket class handles server_hostname encoding before it calls\u001B[0m\u001B[1;33m\u001B[0m\u001B[1;33m\u001B[0m\u001B[0m\n\u001B[0;32m    499\u001B[0m         \u001B[1;31m# ctx._wrap_socket()\u001B[0m\u001B[1;33m\u001B[0m\u001B[1;33m\u001B[0m\u001B[0m\n\u001B[1;32m--> 500\u001B[1;33m         return self.sslsocket_class._create(\n\u001B[0m\u001B[0;32m    501\u001B[0m             \u001B[0msock\u001B[0m\u001B[1;33m=\u001B[0m\u001B[0msock\u001B[0m\u001B[1;33m,\u001B[0m\u001B[1;33m\u001B[0m\u001B[1;33m\u001B[0m\u001B[0m\n\u001B[0;32m    502\u001B[0m             \u001B[0mserver_side\u001B[0m\u001B[1;33m=\u001B[0m\u001B[0mserver_side\u001B[0m\u001B[1;33m,\u001B[0m\u001B[1;33m\u001B[0m\u001B[1;33m\u001B[0m\u001B[0m\n",
      "\u001B[1;32m~\\anaconda3\\lib\\ssl.py\u001B[0m in \u001B[0;36m_create\u001B[1;34m(cls, sock, server_side, do_handshake_on_connect, suppress_ragged_eofs, server_hostname, context, session)\u001B[0m\n\u001B[0;32m   1038\u001B[0m                         \u001B[1;31m# non-blocking\u001B[0m\u001B[1;33m\u001B[0m\u001B[1;33m\u001B[0m\u001B[0m\n\u001B[0;32m   1039\u001B[0m                         \u001B[1;32mraise\u001B[0m \u001B[0mValueError\u001B[0m\u001B[1;33m(\u001B[0m\u001B[1;34m\"do_handshake_on_connect should not be specified for non-blocking sockets\"\u001B[0m\u001B[1;33m)\u001B[0m\u001B[1;33m\u001B[0m\u001B[1;33m\u001B[0m\u001B[0m\n\u001B[1;32m-> 1040\u001B[1;33m                     \u001B[0mself\u001B[0m\u001B[1;33m.\u001B[0m\u001B[0mdo_handshake\u001B[0m\u001B[1;33m(\u001B[0m\u001B[1;33m)\u001B[0m\u001B[1;33m\u001B[0m\u001B[1;33m\u001B[0m\u001B[0m\n\u001B[0m\u001B[0;32m   1041\u001B[0m             \u001B[1;32mexcept\u001B[0m \u001B[1;33m(\u001B[0m\u001B[0mOSError\u001B[0m\u001B[1;33m,\u001B[0m \u001B[0mValueError\u001B[0m\u001B[1;33m)\u001B[0m\u001B[1;33m:\u001B[0m\u001B[1;33m\u001B[0m\u001B[1;33m\u001B[0m\u001B[0m\n\u001B[0;32m   1042\u001B[0m                 \u001B[0mself\u001B[0m\u001B[1;33m.\u001B[0m\u001B[0mclose\u001B[0m\u001B[1;33m(\u001B[0m\u001B[1;33m)\u001B[0m\u001B[1;33m\u001B[0m\u001B[1;33m\u001B[0m\u001B[0m\n",
      "\u001B[1;32m~\\anaconda3\\lib\\ssl.py\u001B[0m in \u001B[0;36mdo_handshake\u001B[1;34m(self, block)\u001B[0m\n\u001B[0;32m   1307\u001B[0m             \u001B[1;32mif\u001B[0m \u001B[0mtimeout\u001B[0m \u001B[1;33m==\u001B[0m \u001B[1;36m0.0\u001B[0m \u001B[1;32mand\u001B[0m \u001B[0mblock\u001B[0m\u001B[1;33m:\u001B[0m\u001B[1;33m\u001B[0m\u001B[1;33m\u001B[0m\u001B[0m\n\u001B[0;32m   1308\u001B[0m                 \u001B[0mself\u001B[0m\u001B[1;33m.\u001B[0m\u001B[0msettimeout\u001B[0m\u001B[1;33m(\u001B[0m\u001B[1;32mNone\u001B[0m\u001B[1;33m)\u001B[0m\u001B[1;33m\u001B[0m\u001B[1;33m\u001B[0m\u001B[0m\n\u001B[1;32m-> 1309\u001B[1;33m             \u001B[0mself\u001B[0m\u001B[1;33m.\u001B[0m\u001B[0m_sslobj\u001B[0m\u001B[1;33m.\u001B[0m\u001B[0mdo_handshake\u001B[0m\u001B[1;33m(\u001B[0m\u001B[1;33m)\u001B[0m\u001B[1;33m\u001B[0m\u001B[1;33m\u001B[0m\u001B[0m\n\u001B[0m\u001B[0;32m   1310\u001B[0m         \u001B[1;32mfinally\u001B[0m\u001B[1;33m:\u001B[0m\u001B[1;33m\u001B[0m\u001B[1;33m\u001B[0m\u001B[0m\n\u001B[0;32m   1311\u001B[0m             \u001B[0mself\u001B[0m\u001B[1;33m.\u001B[0m\u001B[0msettimeout\u001B[0m\u001B[1;33m(\u001B[0m\u001B[0mtimeout\u001B[0m\u001B[1;33m)\u001B[0m\u001B[1;33m\u001B[0m\u001B[1;33m\u001B[0m\u001B[0m\n",
      "\u001B[1;31mKeyboardInterrupt\u001B[0m: "
     ]
    }
   ],
   "source": [
    "import numpy as np\n",
    "\n",
    "activities = new_client.activity.filter(molecule_chembl_id__in = list(approved_drugs_df.molecule_chembl_id)).only(['molecule_chembl_id', 'target_chembl_id'])\n",
    "targets_id = [a['target_chembl_id'] for a in activities]\n",
    "activities_df = pd.DataFrame(activities)\n",
    "activities_df\n",
    "\n",
    "#counts = np.array(activities_df.molecule_chembl_id.value_counts())\n",
    "#med = np.median(counts)\n",
    "#print('The median: ', med)\n",
    "# print('Number of targets: ', len(targets_id))"
   ],
   "metadata": {
    "collapsed": false,
    "pycharm": {
     "name": "#%%\n"
    }
   }
  },
  {
   "cell_type": "code",
   "execution_count": null,
   "outputs": [],
   "source": [
    "# Download targets dataset\n",
    "target = new_client.target\n",
    "result = target.filter(target_synonym_isnull = False).filter(targets_chembl_id__in = targets_id) # I'm not quite sure how to filter this according to the targets list I have from above cell, but I believe this should work.\n",
    "\n",
    "# Put into a Dataframe\n",
    "targets_df = pd.DataFrame(result)\n",
    "# display(targets_df)\n",
    "\n",
    "# Make new column 'accession' that stores all accession numbers given in the target_components column\n",
    "targets_df['accession'] = targets_df[\"target_components\"].str[0].str[\"accession\"]\n",
    "targets_df"
   ],
   "metadata": {
    "collapsed": false,
    "pycharm": {
     "name": "#%%\n"
    }
   }
  },
  {
   "cell_type": "code",
   "execution_count": null,
   "outputs": [],
   "source": [
    "accessions = list(targets_df['accession'])\n",
    "print('Number of accession codes: ', len(accessions))\n",
    "unique_accessions = list(set(accessions))\n",
    "print('Number of unique accessions: ', len(unique_accessions))"
   ],
   "metadata": {
    "collapsed": false,
    "pycharm": {
     "name": "#%%\n"
    }
   }
  },
  {
   "cell_type": "markdown",
   "source": [
    "#### 3. Step 3: for each protein with a UniProt accession number that you identified in step (2), retrieve UniProt keywords associated with it. Which keyword(s) is associated with most drugs approved since 2012?"
   ],
   "metadata": {
    "collapsed": false,
    "pycharm": {
     "name": "#%% md\n"
    }
   }
  },
  {
   "cell_type": "code",
   "execution_count": null,
   "outputs": [],
   "source": [
    "import requests, sys"
   ],
   "metadata": {
    "collapsed": false,
    "pycharm": {
     "name": "#%%\n"
    }
   }
  },
  {
   "cell_type": "code",
   "execution_count": null,
   "outputs": [],
   "source": [
    "reqURLs = [\"https://www.ebi.ac.uk/proteins/api/proteins/{}\".format(a) for a in accessions if a is not None]\n",
    "\n",
    "keyWords = []\n",
    "\n",
    "for url in reqURLs:\n",
    "    r = requests.get(url, headers={'Accept':'application/json'})\n",
    "    if not r.ok:\n",
    "        continue\n",
    "    response = r.json()\n",
    "    a = response['accession']\n",
    "    k = [w['value'] for w in response['keywords']]\n",
    "    if KeyError: \n",
    "        print('{} no KW attached'.format(a))\n",
    "        k = ['']\n",
    "    keyWords.append([a,k])"
   ],
   "metadata": {
    "collapsed": false,
    "pycharm": {
     "name": "#%%\n"
    }
   }
  },
  {
   "cell_type": "code",
   "execution_count": null,
   "outputs": [],
   "source": [
    "kw_df = pd.DataFrame(keyWords, columns=['accession code', 'keywords'])\n",
    "display(kw_df.head(10))\n",
    "print('Number of keywords: ', len(kw_df))\n",
    "\n",
    "print('Counts of keywords: ', kw_df.keywords.value_counts())"
   ],
   "metadata": {
    "collapsed": false,
    "pycharm": {
     "name": "#%%\n"
    }
   }
  },
  {
   "cell_type": "markdown",
   "source": [
    "Unfortunately, the code just does not run due to some API issues (I'm assuming). I do not exactly know where the problem is, but the loading of the data is taking so long, I cannot do much about it."
   ],
   "metadata": {
    "collapsed": false,
    "pycharm": {
     "name": "#%% md\n"
    }
   }
  },
  {
   "cell_type": "markdown",
   "source": [],
   "metadata": {
    "collapsed": false,
    "pycharm": {
     "name": "#%% md\n"
    }
   }
  }
 ],
 "metadata": {
  "kernelspec": {
   "display_name": "Python 3",
   "language": "python",
   "name": "python3"
  },
  "language_info": {
   "codemirror_mode": {
    "name": "ipython",
    "version": 3
   },
   "file_extension": ".py",
   "mimetype": "text/x-python",
   "name": "python",
   "nbconvert_exporter": "python",
   "pygments_lexer": "ipython3",
   "version": "3.8.8"
  }
 },
 "nbformat": 4,
 "nbformat_minor": 1
}