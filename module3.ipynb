{
 "cells": [
  {
   "cell_type": "markdown",
   "metadata": {
    "collapsed": true,
    "pycharm": {
     "name": "#%% md\n"
    }
   },
   "source": [
    "### What is factor analysis?\n",
    "\n",
    "Factor analysis is an exploratory data analysis method that is used to search and identify underlying factors or imporant variables or dimensions from a set of observed data. It extracts the most common variance, the variables that impact the behaviour of the data set the most, and returns them. Factor analysis is used quite widely in drug discovery, information technology and other such modern fields. It serves to understand multi variate datasets better and the filter out unnecessary variables. In contrast to other dimensionality reduction methods, it is designed to explain the correlations between variables.\n",
    "\n",
    "### What are the relationships between covariance matrix, factor analysis, and principal component analysis (PCA)?\n",
    "\n",
    "PCA uses the covariance matrix to explain the maximum amount of variance while factor analysis uses a scaled derivative of the covariance matrix to explain the correlation between underlying variables. In PCA, the resulting components cannot really be interpreted, but in FA, they can be (to a certain extent - correlation does not equal causation).\n",
    "\n",
    "### What do we mean with loadings?\n",
    "\n",
    "Factor loadings are part of the outcome of an FA. This makes up a matrix that shows the relationship of each variable to the underlying factor. The correlation coefficient can be observed for the variable and the factor. Loadings attempt to explain in a deeper fashion the relationship between variables to each other.\n",
    "\n",
    "### Why factors are orthogonal to each other? What’s the consequence?\n",
    "\n",
    "Orthogonal factors would mean that there is no correlation between the 2 vectors/variables. This is useful in PCA, as orthogonal factors are the ones with maximum variance. Orthogonality is not as much of an issue in FA, however.\n",
    "### Why factor analysis can be used as a generative model?\n",
    "\n",
    "As factor analysis does not assume anything, except for the fact that there are underlying factors, this can be looked at as a generative model. Discriminative models, on the other hand, make their predictions based on some underlying conditional probability and is used for classification. Generative models, such as PCA or FA, focus on the distribution of the dataset to return the factors that are most central.\n",
    "\n",
    "### What is the relationship between factor analysis and autoencoder?\n",
    "\n",
    "Factor analysis reduces the dataset/projects the dataset to a low-dimensional hyperplane, for example, in 2D space. Autoencoder can learn to project to a curve in 2D space that linear factor analysis methods cannot achieve. Autoencoders, in machine learning jargon, are just multi-layer perceptrons. This can be more complicated than linear models, like FA or PCA, but can yield better results depending on the type of dataset.\n",
    "\n",
    "### How would you explain factor analysis to yourself half year ago?\n",
    "\n",
    "I would have said that factor analysis in simple terms returns us the correlation coefficients between each set of variables in the dataset.\n",
    "\n"
   ]
  },
  {
   "cell_type": "code",
   "execution_count": 11,
   "outputs": [],
   "source": [
    "from factor_analyzer import FactorAnalyzer\n",
    "import numpy as np\n",
    "import seaborn as sns\n",
    "import pandas as pd\n",
    "import matplotlib.pyplot as plt"
   ],
   "metadata": {
    "collapsed": false,
    "pycharm": {
     "name": "#%%\n"
    }
   }
  },
  {
   "cell_type": "code",
   "execution_count": 12,
   "outputs": [
    {
     "data": {
      "text/plain": "   Unnamed: 0     id  Gender      Customer Type  Age   Type of Travel  \\\n0           0  19556  Female     Loyal Customer   52  Business travel   \n1           1  90035  Female     Loyal Customer   36  Business travel   \n2           2  12360    Male  disloyal Customer   20  Business travel   \n3           3  77959    Male     Loyal Customer   44  Business travel   \n4           4  36875  Female     Loyal Customer   49  Business travel   \n\n      Class  Flight Distance  Inflight wifi service  \\\n0       Eco              160                      5   \n1  Business             2863                      1   \n2       Eco              192                      2   \n3  Business             3377                      0   \n4       Eco             1182                      2   \n\n   Departure/Arrival time convenient  ...  Seat comfort  \\\n0                                  4  ...             3   \n1                                  1  ...             5   \n2                                  0  ...             2   \n3                                  0  ...             4   \n4                                  3  ...             2   \n\n   Inflight entertainment  On-board service  Leg room service  \\\n0                       5                 5                 5   \n1                       4                 4                 4   \n2                       2                 4                 1   \n3                       1                 1                 1   \n4                       2                 2                 2   \n\n   Baggage handling  Checkin service  Inflight service  Cleanliness  \\\n0                 5                2                 5            5   \n1                 4                3                 4            5   \n2                 3                2                 2            2   \n3                 1                3                 1            4   \n4                 2                4                 2            4   \n\n   Departure Delay in Minutes             satisfaction  \n0                          50                satisfied  \n1                           0                satisfied  \n2                           0  neutral or dissatisfied  \n3                           0                satisfied  \n4                           0                satisfied  \n\n[5 rows x 24 columns]",
      "text/html": "<div>\n<style scoped>\n    .dataframe tbody tr th:only-of-type {\n        vertical-align: middle;\n    }\n\n    .dataframe tbody tr th {\n        vertical-align: top;\n    }\n\n    .dataframe thead th {\n        text-align: right;\n    }\n</style>\n<table border=\"1\" class=\"dataframe\">\n  <thead>\n    <tr style=\"text-align: right;\">\n      <th></th>\n      <th>Unnamed: 0</th>\n      <th>id</th>\n      <th>Gender</th>\n      <th>Customer Type</th>\n      <th>Age</th>\n      <th>Type of Travel</th>\n      <th>Class</th>\n      <th>Flight Distance</th>\n      <th>Inflight wifi service</th>\n      <th>Departure/Arrival time convenient</th>\n      <th>...</th>\n      <th>Seat comfort</th>\n      <th>Inflight entertainment</th>\n      <th>On-board service</th>\n      <th>Leg room service</th>\n      <th>Baggage handling</th>\n      <th>Checkin service</th>\n      <th>Inflight service</th>\n      <th>Cleanliness</th>\n      <th>Departure Delay in Minutes</th>\n      <th>satisfaction</th>\n    </tr>\n  </thead>\n  <tbody>\n    <tr>\n      <th>0</th>\n      <td>0</td>\n      <td>19556</td>\n      <td>Female</td>\n      <td>Loyal Customer</td>\n      <td>52</td>\n      <td>Business travel</td>\n      <td>Eco</td>\n      <td>160</td>\n      <td>5</td>\n      <td>4</td>\n      <td>...</td>\n      <td>3</td>\n      <td>5</td>\n      <td>5</td>\n      <td>5</td>\n      <td>5</td>\n      <td>2</td>\n      <td>5</td>\n      <td>5</td>\n      <td>50</td>\n      <td>satisfied</td>\n    </tr>\n    <tr>\n      <th>1</th>\n      <td>1</td>\n      <td>90035</td>\n      <td>Female</td>\n      <td>Loyal Customer</td>\n      <td>36</td>\n      <td>Business travel</td>\n      <td>Business</td>\n      <td>2863</td>\n      <td>1</td>\n      <td>1</td>\n      <td>...</td>\n      <td>5</td>\n      <td>4</td>\n      <td>4</td>\n      <td>4</td>\n      <td>4</td>\n      <td>3</td>\n      <td>4</td>\n      <td>5</td>\n      <td>0</td>\n      <td>satisfied</td>\n    </tr>\n    <tr>\n      <th>2</th>\n      <td>2</td>\n      <td>12360</td>\n      <td>Male</td>\n      <td>disloyal Customer</td>\n      <td>20</td>\n      <td>Business travel</td>\n      <td>Eco</td>\n      <td>192</td>\n      <td>2</td>\n      <td>0</td>\n      <td>...</td>\n      <td>2</td>\n      <td>2</td>\n      <td>4</td>\n      <td>1</td>\n      <td>3</td>\n      <td>2</td>\n      <td>2</td>\n      <td>2</td>\n      <td>0</td>\n      <td>neutral or dissatisfied</td>\n    </tr>\n    <tr>\n      <th>3</th>\n      <td>3</td>\n      <td>77959</td>\n      <td>Male</td>\n      <td>Loyal Customer</td>\n      <td>44</td>\n      <td>Business travel</td>\n      <td>Business</td>\n      <td>3377</td>\n      <td>0</td>\n      <td>0</td>\n      <td>...</td>\n      <td>4</td>\n      <td>1</td>\n      <td>1</td>\n      <td>1</td>\n      <td>1</td>\n      <td>3</td>\n      <td>1</td>\n      <td>4</td>\n      <td>0</td>\n      <td>satisfied</td>\n    </tr>\n    <tr>\n      <th>4</th>\n      <td>4</td>\n      <td>36875</td>\n      <td>Female</td>\n      <td>Loyal Customer</td>\n      <td>49</td>\n      <td>Business travel</td>\n      <td>Eco</td>\n      <td>1182</td>\n      <td>2</td>\n      <td>3</td>\n      <td>...</td>\n      <td>2</td>\n      <td>2</td>\n      <td>2</td>\n      <td>2</td>\n      <td>2</td>\n      <td>4</td>\n      <td>2</td>\n      <td>4</td>\n      <td>0</td>\n      <td>satisfied</td>\n    </tr>\n  </tbody>\n</table>\n<p>5 rows × 24 columns</p>\n</div>"
     },
     "execution_count": 12,
     "metadata": {},
     "output_type": "execute_result"
    }
   ],
   "source": [
    "df = pd.read_csv(\"test.csv\")\n",
    "df.drop(['Arrival Delay in Minutes'], axis=1, inplace=True)\n",
    "df.head()"
   ],
   "metadata": {
    "collapsed": false,
    "pycharm": {
     "name": "#%%\n"
    }
   }
  },
  {
   "cell_type": "code",
   "execution_count": 21,
   "outputs": [
    {
     "data": {
      "text/plain": "<Figure size 432x288 with 1 Axes>",
      "image/png": "[encoded data removed]"
     },
     "metadata": {
      "needs_background": "light"
     },
     "output_type": "display_data"
    },
    {
     "data": {
      "text/plain": "array([3.19792969, 2.2949087 , 1.65156684, 1.09349262, 0.94874304,\n       0.91159054, 0.65718497, 0.52022402, 0.48176178, 0.4518201 ,\n       0.31622202, 0.25984414, 0.21471154])"
     },
     "execution_count": 21,
     "metadata": {},
     "output_type": "execute_result"
    }
   ],
   "source": [
    "data = df[df.columns[7:20]]\n",
    "\n",
    "fa = FactorAnalyzer()\n",
    "fa.fit(data, 10)\n",
    "\n",
    "eigenv, v = fa.get_eigenvalues()\n",
    "r = range(1, data.shape[1]+1)\n",
    "plt.plot(r, eigenv)\n",
    "plt.show()\n",
    "\n",
    "eigenv"
   ],
   "metadata": {
    "collapsed": false,
    "pycharm": {
     "name": "#%%\n"
    }
   }
  },
  {
   "cell_type": "markdown",
   "source": [
    "Loads of the eigenvalues here are below 1,so just drop those, as they won't have a ton of impact."
   ],
   "metadata": {
    "collapsed": false,
    "pycharm": {
     "name": "#%% md\n"
    }
   }
  },
  {
   "cell_type": "markdown",
   "source": [],
   "metadata": {
    "collapsed": false,
    "pycharm": {
     "name": "#%% md\n"
    }
   }
  },
  {
   "cell_type": "code",
   "execution_count": 34,
   "outputs": [
    {
     "name": "stdout",
     "output_type": "stream",
     "text": [
      "[[ 0.03257881  0.14966616  0.14077853]\n",
      " [ 0.75066824  0.18898721  0.1359514 ]\n",
      " [ 0.52086128 -0.04871595  0.04449852]\n",
      " [ 0.91638205  0.05996598  0.03923825]\n",
      " [ 0.52676698 -0.03599489 -0.04578428]\n",
      " [-0.02150908  0.74136468  0.00600339]\n",
      " [ 0.3522664   0.41456313  0.14660588]\n",
      " [-0.00130197  0.80825271  0.08787644]\n",
      " [-0.01275996  0.73189982  0.44968556]\n",
      " [ 0.01260924  0.08302829  0.73024274]\n",
      " [ 0.07311662  0.07553057  0.51371145]\n",
      " [ 0.01900767  0.02856152  0.73125865]\n",
      " [ 0.01472628  0.119363    0.29566238]]\n"
     ]
    }
   ],
   "source": [
    "fa = FactorAnalyzer(3, rotation='varimax')\n",
    "fa.fit(data)\n",
    "loadings = fa.loadings_\n",
    "print(loadings)"
   ],
   "metadata": {
    "collapsed": false,
    "pycharm": {
     "name": "#%%\n"
    }
   }
  },
  {
   "cell_type": "markdown",
   "source": [
    "The higher the value of the loading, the more important that variable is for the selected factor. By some googling, it seems that a loading cutoff of 0.5 is the norm. As per the previous, the values 2,3,4,5 of the first variable are the best correlated. And further. I'm sure a nice plot could be made for this, but as I am in the middle of exam season, I will leave it at this. We have the loading matrix and we would only have to extract the value above .5 and get the factors.\n",
    "\n",
    "Thanks! "
   ],
   "metadata": {
    "collapsed": false,
    "pycharm": {
     "name": "#%% md\n"
    }
   }
  },
  {
   "cell_type": "code",
   "execution_count": 33,
   "outputs": [],
   "source": [],
   "metadata": {
    "collapsed": false,
    "pycharm": {
     "name": "#%%\n"
    }
   }
  }
 ],
 "metadata": {
  "kernelspec": {
   "display_name": "Python 3",
   "language": "python",
   "name": "python3"
  },
  "language_info": {
   "codemirror_mode": {
    "name": "ipython",
    "version": 2
   },
   "file_extension": ".py",
   "mimetype": "text/x-python",
   "name": "python",
   "nbconvert_exporter": "python",
   "pygments_lexer": "ipython2",
   "version": "2.7.6"
  }
 },
 "nbformat": 4,
 "nbformat_minor": 0
}